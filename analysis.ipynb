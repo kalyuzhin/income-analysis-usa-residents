{
 "cells": [
  {
   "metadata": {},
   "cell_type": "markdown",
   "source": "# Анализ доходов жителей США",
   "id": "bde4510f3da10cf7"
  },
  {
   "metadata": {},
   "cell_type": "markdown",
   "source": "## Подготовка к выполнению",
   "id": "81405d2fbf90c5ec"
  },
  {
   "metadata": {},
   "cell_type": "markdown",
   "source": "1. Импорт необходимых библиотек",
   "id": "815381ec7b01e55a"
  },
  {
   "metadata": {
    "ExecuteTime": {
     "end_time": "2024-12-05T18:34:15.965747Z",
     "start_time": "2024-12-05T18:34:15.963664Z"
    }
   },
   "cell_type": "code",
   "source": [
    "import pandas as pd\n",
    "import matplotlib.pyplot as plt\n",
    "import statsmodels.api as sm"
   ],
   "id": "44ada02cd109b6d2",
   "outputs": [],
   "execution_count": 306
  },
  {
   "metadata": {},
   "cell_type": "markdown",
   "source": "## Выполнение заданий",
   "id": "63c94648889a9520"
  },
  {
   "metadata": {},
   "cell_type": "markdown",
   "source": "### Описание данных",
   "id": "dd90db4d3431e46"
  },
  {
   "metadata": {},
   "cell_type": "markdown",
   "source": [
    "\n",
    "***Источник данных:*** [данные о доходах взрослого населения США](https://www.kaggle.com/datasets/wenruliu/adult-income-dataset)\n",
    "\n",
    "***Набор данных включает в себя информацию о демографических характеристиках(возраст, пол, раса), образовании, занятости и доходе.***"
   ],
   "id": "8c81b4a17353a19a"
  },
  {
   "metadata": {
    "ExecuteTime": {
     "end_time": "2024-12-05T18:34:16.276898Z",
     "start_time": "2024-12-05T18:34:16.224940Z"
    }
   },
   "cell_type": "code",
   "source": [
    "data_path = './adult.csv'\n",
    "data = pd.read_csv(data_path)\n",
    "data.head()"
   ],
   "id": "a44b791ebfe59d9",
   "outputs": [
    {
     "data": {
      "text/plain": [
       "   age  workclass  fnlwgt     education  educational-num      marital-status  \\\n",
       "0   25    Private  226802          11th                7       Never-married   \n",
       "1   38    Private   89814       HS-grad                9  Married-civ-spouse   \n",
       "2   28  Local-gov  336951    Assoc-acdm               12  Married-civ-spouse   \n",
       "3   44    Private  160323  Some-college               10  Married-civ-spouse   \n",
       "4   18          ?  103497  Some-college               10       Never-married   \n",
       "\n",
       "          occupation relationship   race  gender  capital-gain  capital-loss  \\\n",
       "0  Machine-op-inspct    Own-child  Black    Male             0             0   \n",
       "1    Farming-fishing      Husband  White    Male             0             0   \n",
       "2    Protective-serv      Husband  White    Male             0             0   \n",
       "3  Machine-op-inspct      Husband  Black    Male          7688             0   \n",
       "4                  ?    Own-child  White  Female             0             0   \n",
       "\n",
       "   hours-per-week native-country income  \n",
       "0              40  United-States  <=50K  \n",
       "1              50  United-States  <=50K  \n",
       "2              40  United-States   >50K  \n",
       "3              40  United-States   >50K  \n",
       "4              30  United-States  <=50K  "
      ],
      "text/html": [
       "<div>\n",
       "<style scoped>\n",
       "    .dataframe tbody tr th:only-of-type {\n",
       "        vertical-align: middle;\n",
       "    }\n",
       "\n",
       "    .dataframe tbody tr th {\n",
       "        vertical-align: top;\n",
       "    }\n",
       "\n",
       "    .dataframe thead th {\n",
       "        text-align: right;\n",
       "    }\n",
       "</style>\n",
       "<table border=\"1\" class=\"dataframe\">\n",
       "  <thead>\n",
       "    <tr style=\"text-align: right;\">\n",
       "      <th></th>\n",
       "      <th>age</th>\n",
       "      <th>workclass</th>\n",
       "      <th>fnlwgt</th>\n",
       "      <th>education</th>\n",
       "      <th>educational-num</th>\n",
       "      <th>marital-status</th>\n",
       "      <th>occupation</th>\n",
       "      <th>relationship</th>\n",
       "      <th>race</th>\n",
       "      <th>gender</th>\n",
       "      <th>capital-gain</th>\n",
       "      <th>capital-loss</th>\n",
       "      <th>hours-per-week</th>\n",
       "      <th>native-country</th>\n",
       "      <th>income</th>\n",
       "    </tr>\n",
       "  </thead>\n",
       "  <tbody>\n",
       "    <tr>\n",
       "      <th>0</th>\n",
       "      <td>25</td>\n",
       "      <td>Private</td>\n",
       "      <td>226802</td>\n",
       "      <td>11th</td>\n",
       "      <td>7</td>\n",
       "      <td>Never-married</td>\n",
       "      <td>Machine-op-inspct</td>\n",
       "      <td>Own-child</td>\n",
       "      <td>Black</td>\n",
       "      <td>Male</td>\n",
       "      <td>0</td>\n",
       "      <td>0</td>\n",
       "      <td>40</td>\n",
       "      <td>United-States</td>\n",
       "      <td>&lt;=50K</td>\n",
       "    </tr>\n",
       "    <tr>\n",
       "      <th>1</th>\n",
       "      <td>38</td>\n",
       "      <td>Private</td>\n",
       "      <td>89814</td>\n",
       "      <td>HS-grad</td>\n",
       "      <td>9</td>\n",
       "      <td>Married-civ-spouse</td>\n",
       "      <td>Farming-fishing</td>\n",
       "      <td>Husband</td>\n",
       "      <td>White</td>\n",
       "      <td>Male</td>\n",
       "      <td>0</td>\n",
       "      <td>0</td>\n",
       "      <td>50</td>\n",
       "      <td>United-States</td>\n",
       "      <td>&lt;=50K</td>\n",
       "    </tr>\n",
       "    <tr>\n",
       "      <th>2</th>\n",
       "      <td>28</td>\n",
       "      <td>Local-gov</td>\n",
       "      <td>336951</td>\n",
       "      <td>Assoc-acdm</td>\n",
       "      <td>12</td>\n",
       "      <td>Married-civ-spouse</td>\n",
       "      <td>Protective-serv</td>\n",
       "      <td>Husband</td>\n",
       "      <td>White</td>\n",
       "      <td>Male</td>\n",
       "      <td>0</td>\n",
       "      <td>0</td>\n",
       "      <td>40</td>\n",
       "      <td>United-States</td>\n",
       "      <td>&gt;50K</td>\n",
       "    </tr>\n",
       "    <tr>\n",
       "      <th>3</th>\n",
       "      <td>44</td>\n",
       "      <td>Private</td>\n",
       "      <td>160323</td>\n",
       "      <td>Some-college</td>\n",
       "      <td>10</td>\n",
       "      <td>Married-civ-spouse</td>\n",
       "      <td>Machine-op-inspct</td>\n",
       "      <td>Husband</td>\n",
       "      <td>Black</td>\n",
       "      <td>Male</td>\n",
       "      <td>7688</td>\n",
       "      <td>0</td>\n",
       "      <td>40</td>\n",
       "      <td>United-States</td>\n",
       "      <td>&gt;50K</td>\n",
       "    </tr>\n",
       "    <tr>\n",
       "      <th>4</th>\n",
       "      <td>18</td>\n",
       "      <td>?</td>\n",
       "      <td>103497</td>\n",
       "      <td>Some-college</td>\n",
       "      <td>10</td>\n",
       "      <td>Never-married</td>\n",
       "      <td>?</td>\n",
       "      <td>Own-child</td>\n",
       "      <td>White</td>\n",
       "      <td>Female</td>\n",
       "      <td>0</td>\n",
       "      <td>0</td>\n",
       "      <td>30</td>\n",
       "      <td>United-States</td>\n",
       "      <td>&lt;=50K</td>\n",
       "    </tr>\n",
       "  </tbody>\n",
       "</table>\n",
       "</div>"
      ]
     },
     "execution_count": 307,
     "metadata": {},
     "output_type": "execute_result"
    }
   ],
   "execution_count": 307
  },
  {
   "metadata": {
    "ExecuteTime": {
     "end_time": "2024-12-05T18:34:16.289713Z",
     "start_time": "2024-12-05T18:34:16.278391Z"
    }
   },
   "cell_type": "code",
   "source": "data.describe()",
   "id": "f99e607d8aae2e6c",
   "outputs": [
    {
     "data": {
      "text/plain": [
       "                age        fnlwgt  educational-num  capital-gain  \\\n",
       "count  48842.000000  4.884200e+04     48842.000000  48842.000000   \n",
       "mean      38.643585  1.896641e+05        10.078089   1079.067626   \n",
       "std       13.710510  1.056040e+05         2.570973   7452.019058   \n",
       "min       17.000000  1.228500e+04         1.000000      0.000000   \n",
       "25%       28.000000  1.175505e+05         9.000000      0.000000   \n",
       "50%       37.000000  1.781445e+05        10.000000      0.000000   \n",
       "75%       48.000000  2.376420e+05        12.000000      0.000000   \n",
       "max       90.000000  1.490400e+06        16.000000  99999.000000   \n",
       "\n",
       "       capital-loss  hours-per-week  \n",
       "count  48842.000000    48842.000000  \n",
       "mean      87.502314       40.422382  \n",
       "std      403.004552       12.391444  \n",
       "min        0.000000        1.000000  \n",
       "25%        0.000000       40.000000  \n",
       "50%        0.000000       40.000000  \n",
       "75%        0.000000       45.000000  \n",
       "max     4356.000000       99.000000  "
      ],
      "text/html": [
       "<div>\n",
       "<style scoped>\n",
       "    .dataframe tbody tr th:only-of-type {\n",
       "        vertical-align: middle;\n",
       "    }\n",
       "\n",
       "    .dataframe tbody tr th {\n",
       "        vertical-align: top;\n",
       "    }\n",
       "\n",
       "    .dataframe thead th {\n",
       "        text-align: right;\n",
       "    }\n",
       "</style>\n",
       "<table border=\"1\" class=\"dataframe\">\n",
       "  <thead>\n",
       "    <tr style=\"text-align: right;\">\n",
       "      <th></th>\n",
       "      <th>age</th>\n",
       "      <th>fnlwgt</th>\n",
       "      <th>educational-num</th>\n",
       "      <th>capital-gain</th>\n",
       "      <th>capital-loss</th>\n",
       "      <th>hours-per-week</th>\n",
       "    </tr>\n",
       "  </thead>\n",
       "  <tbody>\n",
       "    <tr>\n",
       "      <th>count</th>\n",
       "      <td>48842.000000</td>\n",
       "      <td>4.884200e+04</td>\n",
       "      <td>48842.000000</td>\n",
       "      <td>48842.000000</td>\n",
       "      <td>48842.000000</td>\n",
       "      <td>48842.000000</td>\n",
       "    </tr>\n",
       "    <tr>\n",
       "      <th>mean</th>\n",
       "      <td>38.643585</td>\n",
       "      <td>1.896641e+05</td>\n",
       "      <td>10.078089</td>\n",
       "      <td>1079.067626</td>\n",
       "      <td>87.502314</td>\n",
       "      <td>40.422382</td>\n",
       "    </tr>\n",
       "    <tr>\n",
       "      <th>std</th>\n",
       "      <td>13.710510</td>\n",
       "      <td>1.056040e+05</td>\n",
       "      <td>2.570973</td>\n",
       "      <td>7452.019058</td>\n",
       "      <td>403.004552</td>\n",
       "      <td>12.391444</td>\n",
       "    </tr>\n",
       "    <tr>\n",
       "      <th>min</th>\n",
       "      <td>17.000000</td>\n",
       "      <td>1.228500e+04</td>\n",
       "      <td>1.000000</td>\n",
       "      <td>0.000000</td>\n",
       "      <td>0.000000</td>\n",
       "      <td>1.000000</td>\n",
       "    </tr>\n",
       "    <tr>\n",
       "      <th>25%</th>\n",
       "      <td>28.000000</td>\n",
       "      <td>1.175505e+05</td>\n",
       "      <td>9.000000</td>\n",
       "      <td>0.000000</td>\n",
       "      <td>0.000000</td>\n",
       "      <td>40.000000</td>\n",
       "    </tr>\n",
       "    <tr>\n",
       "      <th>50%</th>\n",
       "      <td>37.000000</td>\n",
       "      <td>1.781445e+05</td>\n",
       "      <td>10.000000</td>\n",
       "      <td>0.000000</td>\n",
       "      <td>0.000000</td>\n",
       "      <td>40.000000</td>\n",
       "    </tr>\n",
       "    <tr>\n",
       "      <th>75%</th>\n",
       "      <td>48.000000</td>\n",
       "      <td>2.376420e+05</td>\n",
       "      <td>12.000000</td>\n",
       "      <td>0.000000</td>\n",
       "      <td>0.000000</td>\n",
       "      <td>45.000000</td>\n",
       "    </tr>\n",
       "    <tr>\n",
       "      <th>max</th>\n",
       "      <td>90.000000</td>\n",
       "      <td>1.490400e+06</td>\n",
       "      <td>16.000000</td>\n",
       "      <td>99999.000000</td>\n",
       "      <td>4356.000000</td>\n",
       "      <td>99.000000</td>\n",
       "    </tr>\n",
       "  </tbody>\n",
       "</table>\n",
       "</div>"
      ]
     },
     "execution_count": 308,
     "metadata": {},
     "output_type": "execute_result"
    }
   ],
   "execution_count": 308
  },
  {
   "metadata": {
    "ExecuteTime": {
     "end_time": "2024-12-05T18:34:16.303978Z",
     "start_time": "2024-12-05T18:34:16.290777Z"
    }
   },
   "cell_type": "code",
   "source": "data.info()",
   "id": "721ea5f172650f7a",
   "outputs": [
    {
     "name": "stdout",
     "output_type": "stream",
     "text": [
      "<class 'pandas.core.frame.DataFrame'>\n",
      "RangeIndex: 48842 entries, 0 to 48841\n",
      "Data columns (total 15 columns):\n",
      " #   Column           Non-Null Count  Dtype \n",
      "---  ------           --------------  ----- \n",
      " 0   age              48842 non-null  int64 \n",
      " 1   workclass        48842 non-null  object\n",
      " 2   fnlwgt           48842 non-null  int64 \n",
      " 3   education        48842 non-null  object\n",
      " 4   educational-num  48842 non-null  int64 \n",
      " 5   marital-status   48842 non-null  object\n",
      " 6   occupation       48842 non-null  object\n",
      " 7   relationship     48842 non-null  object\n",
      " 8   race             48842 non-null  object\n",
      " 9   gender           48842 non-null  object\n",
      " 10  capital-gain     48842 non-null  int64 \n",
      " 11  capital-loss     48842 non-null  int64 \n",
      " 12  hours-per-week   48842 non-null  int64 \n",
      " 13  native-country   48842 non-null  object\n",
      " 14  income           48842 non-null  object\n",
      "dtypes: int64(6), object(9)\n",
      "memory usage: 5.6+ MB\n"
     ]
    }
   ],
   "execution_count": 309
  },
  {
   "metadata": {},
   "cell_type": "markdown",
   "source": "### Фильтрация",
   "id": "4b2d7e80855e275f"
  },
  {
   "metadata": {},
   "cell_type": "markdown",
   "source": "#### Фильтрация по одному условию",
   "id": "ad2ebddbca70eefa"
  },
  {
   "metadata": {
    "ExecuteTime": {
     "end_time": "2024-12-05T18:34:16.311102Z",
     "start_time": "2024-12-05T18:34:16.305449Z"
    }
   },
   "cell_type": "code",
   "source": [
    "bachelors = data[data['education'] == 'Bachelors']\n",
    "bachelors.shape"
   ],
   "id": "cc090676198410f1",
   "outputs": [
    {
     "data": {
      "text/plain": [
       "(8025, 15)"
      ]
     },
     "execution_count": 310,
     "metadata": {},
     "output_type": "execute_result"
    }
   ],
   "execution_count": 310
  },
  {
   "metadata": {},
   "cell_type": "markdown",
   "source": "В данных 8025 человек, которые имеют степень образования 'Бакалавр'.",
   "id": "92a545a63bee20dd"
  },
  {
   "metadata": {},
   "cell_type": "markdown",
   "source": "#### Фильтрация по нескольким условиям",
   "id": "60a15cfc7c01d4ba"
  },
  {
   "metadata": {
    "ExecuteTime": {
     "end_time": "2024-12-05T18:34:16.323336Z",
     "start_time": "2024-12-05T18:34:16.311982Z"
    }
   },
   "cell_type": "code",
   "source": [
    "black_women = data[(data['race'] == 'Black') & (data['gender'] == 'Female') & (data['education'] == 'Bachelors') & (\n",
    "        data['income'] == '>50K')]\n",
    "black_women.shape"
   ],
   "id": "3aee788a63ac55f1",
   "outputs": [
    {
     "data": {
      "text/plain": [
       "(40, 15)"
      ]
     },
     "execution_count": 311,
     "metadata": {},
     "output_type": "execute_result"
    }
   ],
   "execution_count": 311
  },
  {
   "metadata": {},
   "cell_type": "markdown",
   "source": "В данных 40 женщин афроамериканского происхождения, которые имеют бакалаврскую степень образования и заработок более 50 тысяч в год.",
   "id": "6fdce9dce231db22"
  },
  {
   "metadata": {},
   "cell_type": "markdown",
   "source": "### Сортировка",
   "id": "cb0164d61ad4dd85"
  },
  {
   "metadata": {},
   "cell_type": "markdown",
   "source": "#### Сортировка по возрастанию",
   "id": "b7b47126107e0121"
  },
  {
   "metadata": {
    "ExecuteTime": {
     "end_time": "2024-12-05T18:34:16.334311Z",
     "start_time": "2024-12-05T18:34:16.324799Z"
    }
   },
   "cell_type": "code",
   "source": [
    "ascending_sort = data.sort_values(by='hours-per-week')\n",
    "ascending_sort['hours-per-week'].iloc[0]"
   ],
   "id": "5e9b01bbd5e00cb9",
   "outputs": [
    {
     "data": {
      "text/plain": [
       "np.int64(1)"
      ]
     },
     "execution_count": 312,
     "metadata": {},
     "output_type": "execute_result"
    }
   ],
   "execution_count": 312
  },
  {
   "metadata": {},
   "cell_type": "markdown",
   "source": "В данных наименьшее число часов работы в неделю составляет 1 час. ",
   "id": "40f50447dfe32714"
  },
  {
   "metadata": {},
   "cell_type": "markdown",
   "source": "#### Сортировка по убыванию",
   "id": "d2ffbb4f2f322447"
  },
  {
   "metadata": {
    "ExecuteTime": {
     "end_time": "2024-12-05T18:34:16.350753Z",
     "start_time": "2024-12-05T18:34:16.341607Z"
    }
   },
   "cell_type": "code",
   "source": [
    "descending_sort = data.sort_values(by='age', ascending=False)\n",
    "descending_sort['age'].iloc[0]"
   ],
   "id": "c5610742c0ba66e1",
   "outputs": [
    {
     "data": {
      "text/plain": [
       "np.int64(90)"
      ]
     },
     "execution_count": 313,
     "metadata": {},
     "output_type": "execute_result"
    }
   ],
   "execution_count": 313
  },
  {
   "metadata": {},
   "cell_type": "markdown",
   "source": "Возраст самого старого человека, представленного в данных составляет 90 лет.",
   "id": "c285f457f11fc3cc"
  },
  {
   "metadata": {},
   "cell_type": "markdown",
   "source": "### Частотная таблица",
   "id": "8287e18bc4111a5c"
  },
  {
   "metadata": {
    "ExecuteTime": {
     "end_time": "2024-12-05T18:34:16.410595Z",
     "start_time": "2024-12-05T18:34:16.405237Z"
    }
   },
   "cell_type": "code",
   "source": [
    "education_counts = data['education'].value_counts()\n",
    "education_counts"
   ],
   "id": "1557b9f0e276a9b",
   "outputs": [
    {
     "data": {
      "text/plain": [
       "education\n",
       "HS-grad         15784\n",
       "Some-college    10878\n",
       "Bachelors        8025\n",
       "Masters          2657\n",
       "Assoc-voc        2061\n",
       "11th             1812\n",
       "Assoc-acdm       1601\n",
       "10th             1389\n",
       "7th-8th           955\n",
       "Prof-school       834\n",
       "9th               756\n",
       "12th              657\n",
       "Doctorate         594\n",
       "5th-6th           509\n",
       "1st-4th           247\n",
       "Preschool          83\n",
       "Name: count, dtype: int64"
      ]
     },
     "execution_count": 314,
     "metadata": {},
     "output_type": "execute_result"
    }
   ],
   "execution_count": 314
  },
  {
   "metadata": {},
   "cell_type": "markdown",
   "source": "Частотная таблица показывает, что самое часто встречающееся образование среди опрошенных - выпускник старшей школы \"HS-grad\"",
   "id": "4300dfa3818a4fd7"
  },
  {
   "metadata": {},
   "cell_type": "markdown",
   "source": "### Гистограмма",
   "id": "26205d09601a6746"
  },
  {
   "metadata": {
    "ExecuteTime": {
     "end_time": "2024-12-05T18:34:16.601758Z",
     "start_time": "2024-12-05T18:34:16.519387Z"
    }
   },
   "cell_type": "code",
   "source": [
    "plt.hist(data['age'], bins=19, edgecolor='black')\n",
    "plt.xlabel('Возраст')\n",
    "\n",
    "plt.ylabel('Количество')\n",
    "plt.title('Распределение возраста')\n",
    "xticks = [i for i in range(17, 90, 4)]\n",
    "plt.xticks(xticks, fontsize=8)\n",
    "plt.grid(axis='y', linestyle='--', alpha=0.7, color='black')\n",
    "# plt.grid(axis='x', linestyle='--', alpha=0.7, color='black')\n",
    "plt.show()"
   ],
   "id": "28e28f9e346dcf40",
   "outputs": [
    {
     "data": {
      "text/plain": [
       "<Figure size 640x480 with 1 Axes>"
      ],
      "image/png": "[encoded data removed]"
     },
     "metadata": {},
     "output_type": "display_data"
    }
   ],
   "execution_count": 315
  },
  {
   "metadata": {},
   "cell_type": "markdown",
   "source": "### Столбчатая диаграмма",
   "id": "ba1a71580d569420"
  },
  {
   "metadata": {
    "ExecuteTime": {
     "end_time": "2024-12-05T18:34:16.665128Z",
     "start_time": "2024-12-05T18:34:16.603121Z"
    }
   },
   "cell_type": "code",
   "source": [
    "data['income'].value_counts().plot(kind='bar')\n",
    "plt.xlabel('Зарплата')\n",
    "plt.ylabel('Количетсво')\n",
    "plt.title('Распределение зарплат')\n",
    "plt.show()"
   ],
   "id": "f40c10c8a4469bcc",
   "outputs": [
    {
     "data": {
      "text/plain": [
       "<Figure size 640x480 with 1 Axes>"
      ],
      "image/png": "[encoded data removed]"
     },
     "metadata": {},
     "output_type": "display_data"
    }
   ],
   "execution_count": 316
  },
  {
   "metadata": {},
   "cell_type": "markdown",
   "source": "### Круговая диаграмма",
   "id": "b6b85ea0a07d21d"
  },
  {
   "metadata": {
    "ExecuteTime": {
     "end_time": "2024-12-05T18:34:16.742424Z",
     "start_time": "2024-12-05T18:34:16.675893Z"
    }
   },
   "cell_type": "code",
   "source": [
    "data['occupation'].value_counts().plot(kind='pie', autopct='%1.1f%%')\n",
    "plt.title('Род деятельности')\n",
    "plt.show()"
   ],
   "id": "7b6a41ebb9abc421",
   "outputs": [
    {
     "data": {
      "text/plain": [
       "<Figure size 640x480 with 1 Axes>"
      ],
      "image/png": "[encoded data removed]"
     },
     "metadata": {},
     "output_type": "display_data"
    }
   ],
   "execution_count": 317
  },
  {
   "metadata": {},
   "cell_type": "markdown",
   "source": "### Создание новых признаков",
   "id": "a86b3bf42b18fec2"
  },
  {
   "metadata": {},
   "cell_type": "markdown",
   "source": "#### Создание нового признака с помощью анонимной функции",
   "id": "c37880d7c1d1ef28"
  },
  {
   "metadata": {
    "ExecuteTime": {
     "end_time": "2024-12-05T18:34:16.751474Z",
     "start_time": "2024-12-05T18:34:16.744324Z"
    }
   },
   "cell_type": "code",
   "source": "data['foreigners'] = data['native-country'].apply(lambda x: 'Native' if x == 'United-States' else 'Foreigner')",
   "id": "62b18847c483048e",
   "outputs": [],
   "execution_count": 318
  },
  {
   "metadata": {},
   "cell_type": "markdown",
   "source": "#### Создание нового признака с помощью def",
   "id": "1d6a1e431042a2ab"
  },
  {
   "metadata": {
    "ExecuteTime": {
     "end_time": "2024-12-05T18:34:16.763783Z",
     "start_time": "2024-12-05T18:34:16.752253Z"
    }
   },
   "cell_type": "code",
   "source": [
    "def categorize_education(education):\n",
    "    if education in ['Bachelors', 'Masters', 'Doctorate']:\n",
    "        return 'Higher education'\n",
    "    else:\n",
    "        return 'Other'\n",
    "\n",
    "\n",
    "data['education-category'] = data['education'].apply(categorize_education)\n",
    "data['education-category'].value_counts()"
   ],
   "id": "31db8346154b61ea",
   "outputs": [
    {
     "data": {
      "text/plain": [
       "education-category\n",
       "Other               37566\n",
       "Higher education    11276\n",
       "Name: count, dtype: int64"
      ]
     },
     "execution_count": 319,
     "metadata": {},
     "output_type": "execute_result"
    }
   ],
   "execution_count": 319
  },
  {
   "metadata": {},
   "cell_type": "markdown",
   "source": "### Группировки",
   "id": "c2fd24f95ef51fbf"
  },
  {
   "metadata": {},
   "cell_type": "markdown",
   "source": "#### Группировка один столбец группировки/один столбец агрегирования/один метод агрегирования",
   "id": "e474b550f74ec083"
  },
  {
   "metadata": {
    "ExecuteTime": {
     "end_time": "2024-12-05T18:34:16.769529Z",
     "start_time": "2024-12-05T18:34:16.764550Z"
    }
   },
   "cell_type": "code",
   "source": [
    "average_age_by_gender = data.groupby('gender')['age'].mean()\n",
    "average_age_by_gender"
   ],
   "id": "2918ea653a7c4eea",
   "outputs": [
    {
     "data": {
      "text/plain": [
       "gender\n",
       "Female    36.927989\n",
       "Male      39.494395\n",
       "Name: age, dtype: float64"
      ]
     },
     "execution_count": 320,
     "metadata": {},
     "output_type": "execute_result"
    }
   ],
   "execution_count": 320
  },
  {
   "metadata": {},
   "cell_type": "markdown",
   "source": "#### Группировка один столбец группировки/несколько столбцов агрерирования/один метод агрегирования",
   "id": "ea48456ed817546c"
  },
  {
   "metadata": {
    "ExecuteTime": {
     "end_time": "2024-12-05T18:34:16.784312Z",
     "start_time": "2024-12-05T18:34:16.770214Z"
    }
   },
   "cell_type": "code",
   "source": [
    "group_by_education = data.groupby('education')[['age', 'hours-per-week']].mean()\n",
    "group_by_education"
   ],
   "id": "d325beb683f50222",
   "outputs": [
    {
     "data": {
      "text/plain": [
       "                    age  hours-per-week\n",
       "education                              \n",
       "10th          37.902808       36.986321\n",
       "11th          32.141832       33.952539\n",
       "12th          32.235921       35.374429\n",
       "1st-4th       46.639676       38.761134\n",
       "5th-6th       43.585462       38.923379\n",
       "7th-8th       49.525654       39.003141\n",
       "9th           40.902116       38.359788\n",
       "Assoc-acdm    37.777014       40.809494\n",
       "Assoc-voc     38.651140       41.658418\n",
       "Bachelors     38.896324       42.482492\n",
       "Doctorate     47.530303       46.582492\n",
       "HS-grad       39.073809       40.640775\n",
       "Masters       44.006775       43.575837\n",
       "Preschool     42.204819       36.566265\n",
       "Prof-school   45.152278       47.579137\n",
       "Some-college  35.677055       38.865784"
      ],
      "text/html": [
       "<div>\n",
       "<style scoped>\n",
       "    .dataframe tbody tr th:only-of-type {\n",
       "        vertical-align: middle;\n",
       "    }\n",
       "\n",
       "    .dataframe tbody tr th {\n",
       "        vertical-align: top;\n",
       "    }\n",
       "\n",
       "    .dataframe thead th {\n",
       "        text-align: right;\n",
       "    }\n",
       "</style>\n",
       "<table border=\"1\" class=\"dataframe\">\n",
       "  <thead>\n",
       "    <tr style=\"text-align: right;\">\n",
       "      <th></th>\n",
       "      <th>age</th>\n",
       "      <th>hours-per-week</th>\n",
       "    </tr>\n",
       "    <tr>\n",
       "      <th>education</th>\n",
       "      <th></th>\n",
       "      <th></th>\n",
       "    </tr>\n",
       "  </thead>\n",
       "  <tbody>\n",
       "    <tr>\n",
       "      <th>10th</th>\n",
       "      <td>37.902808</td>\n",
       "      <td>36.986321</td>\n",
       "    </tr>\n",
       "    <tr>\n",
       "      <th>11th</th>\n",
       "      <td>32.141832</td>\n",
       "      <td>33.952539</td>\n",
       "    </tr>\n",
       "    <tr>\n",
       "      <th>12th</th>\n",
       "      <td>32.235921</td>\n",
       "      <td>35.374429</td>\n",
       "    </tr>\n",
       "    <tr>\n",
       "      <th>1st-4th</th>\n",
       "      <td>46.639676</td>\n",
       "      <td>38.761134</td>\n",
       "    </tr>\n",
       "    <tr>\n",
       "      <th>5th-6th</th>\n",
       "      <td>43.585462</td>\n",
       "      <td>38.923379</td>\n",
       "    </tr>\n",
       "    <tr>\n",
       "      <th>7th-8th</th>\n",
       "      <td>49.525654</td>\n",
       "      <td>39.003141</td>\n",
       "    </tr>\n",
       "    <tr>\n",
       "      <th>9th</th>\n",
       "      <td>40.902116</td>\n",
       "      <td>38.359788</td>\n",
       "    </tr>\n",
       "    <tr>\n",
       "      <th>Assoc-acdm</th>\n",
       "      <td>37.777014</td>\n",
       "      <td>40.809494</td>\n",
       "    </tr>\n",
       "    <tr>\n",
       "      <th>Assoc-voc</th>\n",
       "      <td>38.651140</td>\n",
       "      <td>41.658418</td>\n",
       "    </tr>\n",
       "    <tr>\n",
       "      <th>Bachelors</th>\n",
       "      <td>38.896324</td>\n",
       "      <td>42.482492</td>\n",
       "    </tr>\n",
       "    <tr>\n",
       "      <th>Doctorate</th>\n",
       "      <td>47.530303</td>\n",
       "      <td>46.582492</td>\n",
       "    </tr>\n",
       "    <tr>\n",
       "      <th>HS-grad</th>\n",
       "      <td>39.073809</td>\n",
       "      <td>40.640775</td>\n",
       "    </tr>\n",
       "    <tr>\n",
       "      <th>Masters</th>\n",
       "      <td>44.006775</td>\n",
       "      <td>43.575837</td>\n",
       "    </tr>\n",
       "    <tr>\n",
       "      <th>Preschool</th>\n",
       "      <td>42.204819</td>\n",
       "      <td>36.566265</td>\n",
       "    </tr>\n",
       "    <tr>\n",
       "      <th>Prof-school</th>\n",
       "      <td>45.152278</td>\n",
       "      <td>47.579137</td>\n",
       "    </tr>\n",
       "    <tr>\n",
       "      <th>Some-college</th>\n",
       "      <td>35.677055</td>\n",
       "      <td>38.865784</td>\n",
       "    </tr>\n",
       "  </tbody>\n",
       "</table>\n",
       "</div>"
      ]
     },
     "execution_count": 321,
     "metadata": {},
     "output_type": "execute_result"
    }
   ],
   "execution_count": 321
  },
  {
   "metadata": {},
   "cell_type": "markdown",
   "source": "#### Группировка один столбец группировки/один столбец агрегирования/несколько методов агрегирования",
   "id": "be36f49485d10b9c"
  },
  {
   "metadata": {
    "ExecuteTime": {
     "end_time": "2024-12-05T18:34:16.791545Z",
     "start_time": "2024-12-05T18:34:16.785202Z"
    }
   },
   "cell_type": "code",
   "source": "data.groupby('education')['age'].agg(['min', 'max'])",
   "id": "c6447297ad490da6",
   "outputs": [
    {
     "data": {
      "text/plain": [
       "              min  max\n",
       "education             \n",
       "10th           17   90\n",
       "11th           17   90\n",
       "12th           17   81\n",
       "1st-4th        19   90\n",
       "5th-6th        17   84\n",
       "7th-8th        17   90\n",
       "9th            17   90\n",
       "Assoc-acdm     19   90\n",
       "Assoc-voc      19   84\n",
       "Bachelors      19   90\n",
       "Doctorate      24   80\n",
       "HS-grad        17   90\n",
       "Masters        18   90\n",
       "Preschool      19   77\n",
       "Prof-school    25   90\n",
       "Some-college   17   90"
      ],
      "text/html": [
       "<div>\n",
       "<style scoped>\n",
       "    .dataframe tbody tr th:only-of-type {\n",
       "        vertical-align: middle;\n",
       "    }\n",
       "\n",
       "    .dataframe tbody tr th {\n",
       "        vertical-align: top;\n",
       "    }\n",
       "\n",
       "    .dataframe thead th {\n",
       "        text-align: right;\n",
       "    }\n",
       "</style>\n",
       "<table border=\"1\" class=\"dataframe\">\n",
       "  <thead>\n",
       "    <tr style=\"text-align: right;\">\n",
       "      <th></th>\n",
       "      <th>min</th>\n",
       "      <th>max</th>\n",
       "    </tr>\n",
       "    <tr>\n",
       "      <th>education</th>\n",
       "      <th></th>\n",
       "      <th></th>\n",
       "    </tr>\n",
       "  </thead>\n",
       "  <tbody>\n",
       "    <tr>\n",
       "      <th>10th</th>\n",
       "      <td>17</td>\n",
       "      <td>90</td>\n",
       "    </tr>\n",
       "    <tr>\n",
       "      <th>11th</th>\n",
       "      <td>17</td>\n",
       "      <td>90</td>\n",
       "    </tr>\n",
       "    <tr>\n",
       "      <th>12th</th>\n",
       "      <td>17</td>\n",
       "      <td>81</td>\n",
       "    </tr>\n",
       "    <tr>\n",
       "      <th>1st-4th</th>\n",
       "      <td>19</td>\n",
       "      <td>90</td>\n",
       "    </tr>\n",
       "    <tr>\n",
       "      <th>5th-6th</th>\n",
       "      <td>17</td>\n",
       "      <td>84</td>\n",
       "    </tr>\n",
       "    <tr>\n",
       "      <th>7th-8th</th>\n",
       "      <td>17</td>\n",
       "      <td>90</td>\n",
       "    </tr>\n",
       "    <tr>\n",
       "      <th>9th</th>\n",
       "      <td>17</td>\n",
       "      <td>90</td>\n",
       "    </tr>\n",
       "    <tr>\n",
       "      <th>Assoc-acdm</th>\n",
       "      <td>19</td>\n",
       "      <td>90</td>\n",
       "    </tr>\n",
       "    <tr>\n",
       "      <th>Assoc-voc</th>\n",
       "      <td>19</td>\n",
       "      <td>84</td>\n",
       "    </tr>\n",
       "    <tr>\n",
       "      <th>Bachelors</th>\n",
       "      <td>19</td>\n",
       "      <td>90</td>\n",
       "    </tr>\n",
       "    <tr>\n",
       "      <th>Doctorate</th>\n",
       "      <td>24</td>\n",
       "      <td>80</td>\n",
       "    </tr>\n",
       "    <tr>\n",
       "      <th>HS-grad</th>\n",
       "      <td>17</td>\n",
       "      <td>90</td>\n",
       "    </tr>\n",
       "    <tr>\n",
       "      <th>Masters</th>\n",
       "      <td>18</td>\n",
       "      <td>90</td>\n",
       "    </tr>\n",
       "    <tr>\n",
       "      <th>Preschool</th>\n",
       "      <td>19</td>\n",
       "      <td>77</td>\n",
       "    </tr>\n",
       "    <tr>\n",
       "      <th>Prof-school</th>\n",
       "      <td>25</td>\n",
       "      <td>90</td>\n",
       "    </tr>\n",
       "    <tr>\n",
       "      <th>Some-college</th>\n",
       "      <td>17</td>\n",
       "      <td>90</td>\n",
       "    </tr>\n",
       "  </tbody>\n",
       "</table>\n",
       "</div>"
      ]
     },
     "execution_count": 322,
     "metadata": {},
     "output_type": "execute_result"
    }
   ],
   "execution_count": 322
  },
  {
   "metadata": {},
   "cell_type": "markdown",
   "source": "#### Группировка один столбец группировки/несколько столбцов агрегирования/несколько методов агрегирования",
   "id": "436af891ca4ba06a"
  },
  {
   "metadata": {
    "ExecuteTime": {
     "end_time": "2024-12-05T18:34:16.802243Z",
     "start_time": "2024-12-05T18:34:16.793389Z"
    }
   },
   "cell_type": "code",
   "source": "data.groupby('workclass').agg({'age': ['mean'], 'hours-per-week': ['mean', 'median']})",
   "id": "29bec2d140c7a642",
   "outputs": [
    {
     "data": {
      "text/plain": [
       "                        age hours-per-week       \n",
       "                       mean           mean median\n",
       "workclass                                        \n",
       "?                 40.141122      31.812433   36.0\n",
       "Federal-gov       42.577514      41.513268   40.0\n",
       "Local-gov         41.676020      40.847258   40.0\n",
       "Never-worked      19.900000      28.900000   35.0\n",
       "Private           36.903144      40.273137   40.0\n",
       "Self-emp-inc      45.799410      48.570501   50.0\n",
       "Self-emp-not-inc  45.332470      44.395132   40.0\n",
       "State-gov         39.512367      39.090863   40.0\n",
       "Without-pay       47.285714      33.952381   40.0"
      ],
      "text/html": [
       "<div>\n",
       "<style scoped>\n",
       "    .dataframe tbody tr th:only-of-type {\n",
       "        vertical-align: middle;\n",
       "    }\n",
       "\n",
       "    .dataframe tbody tr th {\n",
       "        vertical-align: top;\n",
       "    }\n",
       "\n",
       "    .dataframe thead tr th {\n",
       "        text-align: left;\n",
       "    }\n",
       "\n",
       "    .dataframe thead tr:last-of-type th {\n",
       "        text-align: right;\n",
       "    }\n",
       "</style>\n",
       "<table border=\"1\" class=\"dataframe\">\n",
       "  <thead>\n",
       "    <tr>\n",
       "      <th></th>\n",
       "      <th>age</th>\n",
       "      <th colspan=\"2\" halign=\"left\">hours-per-week</th>\n",
       "    </tr>\n",
       "    <tr>\n",
       "      <th></th>\n",
       "      <th>mean</th>\n",
       "      <th>mean</th>\n",
       "      <th>median</th>\n",
       "    </tr>\n",
       "    <tr>\n",
       "      <th>workclass</th>\n",
       "      <th></th>\n",
       "      <th></th>\n",
       "      <th></th>\n",
       "    </tr>\n",
       "  </thead>\n",
       "  <tbody>\n",
       "    <tr>\n",
       "      <th>?</th>\n",
       "      <td>40.141122</td>\n",
       "      <td>31.812433</td>\n",
       "      <td>36.0</td>\n",
       "    </tr>\n",
       "    <tr>\n",
       "      <th>Federal-gov</th>\n",
       "      <td>42.577514</td>\n",
       "      <td>41.513268</td>\n",
       "      <td>40.0</td>\n",
       "    </tr>\n",
       "    <tr>\n",
       "      <th>Local-gov</th>\n",
       "      <td>41.676020</td>\n",
       "      <td>40.847258</td>\n",
       "      <td>40.0</td>\n",
       "    </tr>\n",
       "    <tr>\n",
       "      <th>Never-worked</th>\n",
       "      <td>19.900000</td>\n",
       "      <td>28.900000</td>\n",
       "      <td>35.0</td>\n",
       "    </tr>\n",
       "    <tr>\n",
       "      <th>Private</th>\n",
       "      <td>36.903144</td>\n",
       "      <td>40.273137</td>\n",
       "      <td>40.0</td>\n",
       "    </tr>\n",
       "    <tr>\n",
       "      <th>Self-emp-inc</th>\n",
       "      <td>45.799410</td>\n",
       "      <td>48.570501</td>\n",
       "      <td>50.0</td>\n",
       "    </tr>\n",
       "    <tr>\n",
       "      <th>Self-emp-not-inc</th>\n",
       "      <td>45.332470</td>\n",
       "      <td>44.395132</td>\n",
       "      <td>40.0</td>\n",
       "    </tr>\n",
       "    <tr>\n",
       "      <th>State-gov</th>\n",
       "      <td>39.512367</td>\n",
       "      <td>39.090863</td>\n",
       "      <td>40.0</td>\n",
       "    </tr>\n",
       "    <tr>\n",
       "      <th>Without-pay</th>\n",
       "      <td>47.285714</td>\n",
       "      <td>33.952381</td>\n",
       "      <td>40.0</td>\n",
       "    </tr>\n",
       "  </tbody>\n",
       "</table>\n",
       "</div>"
      ]
     },
     "execution_count": 323,
     "metadata": {},
     "output_type": "execute_result"
    }
   ],
   "execution_count": 323
  },
  {
   "metadata": {},
   "cell_type": "markdown",
   "source": "## 3 Этап",
   "id": "cc5dfdf693b218ab"
  },
  {
   "metadata": {},
   "cell_type": "markdown",
   "source": "### 1. Описательные характеристики",
   "id": "e167a32da5fa451b"
  },
  {
   "metadata": {},
   "cell_type": "markdown",
   "source": "#### Числовой признак",
   "id": "3bc54c6f908c7b1f"
  },
  {
   "metadata": {
    "ExecuteTime": {
     "end_time": "2024-12-05T18:34:16.805110Z",
     "start_time": "2024-12-05T18:34:16.803011Z"
    }
   },
   "cell_type": "code",
   "source": "hours_per_week = data['hours-per-week']",
   "id": "b6fb0cf9e49e510b",
   "outputs": [],
   "execution_count": 324
  },
  {
   "metadata": {},
   "cell_type": "markdown",
   "source": "##### Среднее",
   "id": "6c86b8b80254f64c"
  },
  {
   "metadata": {
    "ExecuteTime": {
     "end_time": "2024-12-05T18:34:16.808399Z",
     "start_time": "2024-12-05T18:34:16.805724Z"
    }
   },
   "cell_type": "code",
   "source": [
    "mean_hours_per_week = hours_per_week.mean()\n",
    "mean_hours_per_week"
   ],
   "id": "e99e9b0e11fe94d8",
   "outputs": [
    {
     "data": {
      "text/plain": [
       "np.float64(40.422382375824085)"
      ]
     },
     "execution_count": 325,
     "metadata": {},
     "output_type": "execute_result"
    }
   ],
   "execution_count": 325
  },
  {
   "metadata": {},
   "cell_type": "markdown",
   "source": "Среднее арифметическое количества рабочих часов в неделю составляет 40",
   "id": "1b366a277291036b"
  },
  {
   "metadata": {},
   "cell_type": "markdown",
   "source": "##### Медиана",
   "id": "6b044ba9e85d55f2"
  },
  {
   "metadata": {
    "ExecuteTime": {
     "end_time": "2024-12-05T18:34:16.812511Z",
     "start_time": "2024-12-05T18:34:16.809736Z"
    }
   },
   "cell_type": "code",
   "source": [
    "median_hours_per_week = hours_per_week.median()\n",
    "median_hours_per_week"
   ],
   "id": "df2f35cf6b653e55",
   "outputs": [
    {
     "data": {
      "text/plain": [
       "np.float64(40.0)"
      ]
     },
     "execution_count": 326,
     "metadata": {},
     "output_type": "execute_result"
    }
   ],
   "execution_count": 326
  },
  {
   "metadata": {},
   "cell_type": "markdown",
   "source": "",
   "id": "fe0725a107c2dc13"
  },
  {
   "metadata": {},
   "cell_type": "markdown",
   "source": "##### Мода",
   "id": "ec7f561b5a003b0b"
  },
  {
   "metadata": {
    "ExecuteTime": {
     "end_time": "2024-12-05T18:34:16.888502Z",
     "start_time": "2024-12-05T18:34:16.885918Z"
    }
   },
   "cell_type": "code",
   "source": [
    "mode_hours_per_week = hours_per_week.mode()[0]\n",
    "mode_hours_per_week"
   ],
   "id": "7370d4b8b9c4ab6c",
   "outputs": [
    {
     "data": {
      "text/plain": [
       "np.int64(40)"
      ]
     },
     "execution_count": 327,
     "metadata": {},
     "output_type": "execute_result"
    }
   ],
   "execution_count": 327
  },
  {
   "metadata": {},
   "cell_type": "markdown",
   "source": "Самое частое значение рабочих часов в неделю составляет 40",
   "id": "b3e93bd363b21a35"
  },
  {
   "metadata": {},
   "cell_type": "markdown",
   "source": "##### Размах",
   "id": "b8ff0e35b428f457"
  },
  {
   "metadata": {
    "ExecuteTime": {
     "end_time": "2024-12-05T18:34:16.920663Z",
     "start_time": "2024-12-05T18:34:16.917740Z"
    }
   },
   "cell_type": "code",
   "source": [
    "range_hours_per_week = hours_per_week.max() - hours_per_week.min()\n",
    "range_hours_per_week"
   ],
   "id": "2845bb4144a4f8",
   "outputs": [
    {
     "data": {
      "text/plain": [
       "np.int64(98)"
      ]
     },
     "execution_count": 328,
     "metadata": {},
     "output_type": "execute_result"
    }
   ],
   "execution_count": 328
  },
  {
   "metadata": {},
   "cell_type": "markdown",
   "source": "Амплитуда изменения количества рабочих часов в неделю равна 98 ",
   "id": "4c9e258bdaa61069"
  },
  {
   "metadata": {},
   "cell_type": "markdown",
   "source": "##### Квартильные значения",
   "id": "6e09e5d83ff04b61"
  },
  {
   "metadata": {},
   "cell_type": "markdown",
   "source": "###### Первый квартиль",
   "id": "c8897993422aa3da"
  },
  {
   "metadata": {
    "ExecuteTime": {
     "end_time": "2024-12-05T18:34:17.016893Z",
     "start_time": "2024-12-05T18:34:17.012806Z"
    }
   },
   "cell_type": "code",
   "source": [
    "q1_hours_per_week = hours_per_week.quantile(0.25)\n",
    "q1_hours_per_week"
   ],
   "id": "779823e6bb777fa0",
   "outputs": [
    {
     "data": {
      "text/plain": [
       "np.float64(40.0)"
      ]
     },
     "execution_count": 329,
     "metadata": {},
     "output_type": "execute_result"
    }
   ],
   "execution_count": 329
  },
  {
   "metadata": {},
   "cell_type": "markdown",
   "source": [
    "25% работает меньше 40 часов в неделю\n",
    "75% работает больше 40 часов в неделю"
   ],
   "id": "4032613eb0633533"
  },
  {
   "metadata": {},
   "cell_type": "markdown",
   "source": "###### Третий квартиль",
   "id": "d349849043372fff"
  },
  {
   "metadata": {
    "ExecuteTime": {
     "end_time": "2024-12-05T18:34:17.094031Z",
     "start_time": "2024-12-05T18:34:17.090443Z"
    }
   },
   "cell_type": "code",
   "source": [
    "q3_hours_per_week = hours_per_week.quantile(0.75)\n",
    "q3_hours_per_week"
   ],
   "id": "680ca116ea02e46c",
   "outputs": [
    {
     "data": {
      "text/plain": [
       "np.float64(45.0)"
      ]
     },
     "execution_count": 330,
     "metadata": {},
     "output_type": "execute_result"
    }
   ],
   "execution_count": 330
  },
  {
   "metadata": {},
   "cell_type": "markdown",
   "source": [
    "75% опрошенных работают меньше 45 часов в неделю\n",
    "25% процентов опрошенных работают больше 45 часов в неделю"
   ],
   "id": "5347475a5f023ec"
  },
  {
   "metadata": {},
   "cell_type": "markdown",
   "source": "##### Межквартильный размах",
   "id": "89d995b5f992b424"
  },
  {
   "metadata": {
    "ExecuteTime": {
     "end_time": "2024-12-05T18:34:17.172545Z",
     "start_time": "2024-12-05T18:34:17.169688Z"
    }
   },
   "cell_type": "code",
   "source": [
    "iqr_hours_per_week = q3_hours_per_week - q1_hours_per_week\n",
    "iqr_hours_per_week"
   ],
   "id": "1707ae5e26710f1f",
   "outputs": [
    {
     "data": {
      "text/plain": [
       "np.float64(5.0)"
      ]
     },
     "execution_count": 331,
     "metadata": {},
     "output_type": "execute_result"
    }
   ],
   "execution_count": 331
  },
  {
   "metadata": {},
   "cell_type": "markdown",
   "source": "50% наблюдений между первым и третьим квартилем находятся в диапазоне 5 часов",
   "id": "37b00f9ba4f5fa17"
  },
  {
   "metadata": {},
   "cell_type": "markdown",
   "source": "##### Дисперсия",
   "id": "7087b6c9509aefa9"
  },
  {
   "metadata": {
    "ExecuteTime": {
     "end_time": "2024-12-05T18:34:17.222158Z",
     "start_time": "2024-12-05T18:34:17.219276Z"
    }
   },
   "cell_type": "code",
   "source": [
    "variance_hours_per_week = hours_per_week.var()\n",
    "variance_hours_per_week"
   ],
   "id": "c27124e4f59049c7",
   "outputs": [
    {
     "data": {
      "text/plain": [
       "np.float64(153.5478850061782)"
      ]
     },
     "execution_count": 332,
     "metadata": {},
     "output_type": "execute_result"
    }
   ],
   "execution_count": 332
  },
  {
   "metadata": {},
   "cell_type": "markdown",
   "source": "Средний квадрат отклонения составляет 154 часа",
   "id": "8d0a0e6f894a574a"
  },
  {
   "metadata": {},
   "cell_type": "markdown",
   "source": "##### Стандартное отклонение",
   "id": "e340157e5df1f6e1"
  },
  {
   "metadata": {
    "ExecuteTime": {
     "end_time": "2024-12-05T18:34:17.247267Z",
     "start_time": "2024-12-05T18:34:17.244325Z"
    }
   },
   "cell_type": "code",
   "source": [
    "std_hours_per_week = hours_per_week.std()\n",
    "std_hours_per_week"
   ],
   "id": "b20127642b35a684",
   "outputs": [
    {
     "data": {
      "text/plain": [
       "np.float64(12.391444024252307)"
      ]
     },
     "execution_count": 333,
     "metadata": {},
     "output_type": "execute_result"
    }
   ],
   "execution_count": 333
  },
  {
   "metadata": {},
   "cell_type": "markdown",
   "source": "В среднем количество рабочих часов в неделю от среднего количества отклоняется на 12 часов",
   "id": "1c366dbff384db09"
  },
  {
   "metadata": {},
   "cell_type": "markdown",
   "source": "Количество рабочих часов в неделю представляет собой симметричное распределение",
   "id": "e6296deb1a97ec6e"
  },
  {
   "metadata": {},
   "cell_type": "markdown",
   "source": "#### Категориальный признак",
   "id": "1b0cf07a23a8c87b"
  },
  {
   "metadata": {
    "ExecuteTime": {
     "end_time": "2024-12-05T18:34:17.279774Z",
     "start_time": "2024-12-05T18:34:17.277861Z"
    }
   },
   "cell_type": "code",
   "source": "occupation = data['occupation']",
   "id": "6e6966402f269f51",
   "outputs": [],
   "execution_count": 334
  },
  {
   "metadata": {},
   "cell_type": "markdown",
   "source": "#### Мода",
   "id": "aed2f990f2e97ec7"
  },
  {
   "metadata": {
    "ExecuteTime": {
     "end_time": "2024-12-05T18:34:17.305490Z",
     "start_time": "2024-12-05T18:34:17.301257Z"
    }
   },
   "cell_type": "code",
   "source": [
    "mode_occupation = occupation.mode()[0]\n",
    "mode_occupation"
   ],
   "id": "5c544ef5fe242c0c",
   "outputs": [
    {
     "data": {
      "text/plain": [
       "'Prof-specialty'"
      ]
     },
     "execution_count": 335,
     "metadata": {},
     "output_type": "execute_result"
    }
   ],
   "execution_count": 335
  },
  {
   "metadata": {},
   "cell_type": "markdown",
   "source": "##### Количество уникальных значений",
   "id": "92e771c2c3c42511"
  },
  {
   "metadata": {
    "ExecuteTime": {
     "end_time": "2024-12-05T18:34:17.322790Z",
     "start_time": "2024-12-05T18:34:17.318314Z"
    }
   },
   "cell_type": "code",
   "source": [
    "unique_occupation = occupation.nunique()\n",
    "unique_occupation"
   ],
   "id": "c38ae2fffcce4663",
   "outputs": [
    {
     "data": {
      "text/plain": [
       "15"
      ]
     },
     "execution_count": 336,
     "metadata": {},
     "output_type": "execute_result"
    }
   ],
   "execution_count": 336
  },
  {
   "metadata": {},
   "cell_type": "markdown",
   "source": "В данных приведено всего 15 различных профессий",
   "id": "56bb66e590f9fb9"
  },
  {
   "metadata": {},
   "cell_type": "markdown",
   "source": "### 2. Построение ящика с усами",
   "id": "d4f399b11b2ca193"
  },
  {
   "metadata": {
    "ExecuteTime": {
     "end_time": "2024-12-05T19:36:46.676116Z",
     "start_time": "2024-12-05T19:36:46.603862Z"
    }
   },
   "cell_type": "code",
   "source": [
    "hours_per_week.plot(kind='box', vert=False)\n",
    "plt.grid(axis='x', linestyle='--', alpha=0.7, color='gray')\n",
    "xticks = [i for i in range(0, 100, 5)]\n",
    "plt.xticks(xticks, fontsize=8)\n",
    "plt.show()"
   ],
   "id": "b98458b28cce09d1",
   "outputs": [
    {
     "data": {
      "text/plain": [
       "<Figure size 640x480 with 1 Axes>"
      ],
      "image/png": "[encoded data removed]"
     },
     "metadata": {},
     "output_type": "display_data"
    }
   ],
   "execution_count": 380
  },
  {
   "metadata": {},
   "cell_type": "markdown",
   "source": [
    "Медиана (второй квартиль) равна 40 и совпадает со значением первого квартиля.\n",
    "\n",
    "Значение третьего квартиля равно 45.\n",
    "\n",
    "Межквартильный размах составляет 5.\n",
    "\n",
    "Минимальное значение равно 33, а максимальное - 52.\n",
    "\n",
    "Остальное - выбросы.\n",
    "\n",
    "Таким образом, действительные значения находятся в диапазоне от 33 до 52."
   ],
   "id": "f5ea7210e89e259e"
  },
  {
   "metadata": {
    "ExecuteTime": {
     "end_time": "2024-12-05T19:37:51.682233Z",
     "start_time": "2024-12-05T19:37:51.624743Z"
    }
   },
   "cell_type": "code",
   "source": [
    "age = data['age']\n",
    "age.plot(kind='box', vert=False)\n",
    "plt.grid(axis='x', linestyle='--', alpha=0.7, color='gray')\n",
    "xticks = [i for i in range(17, 90, 5)]\n",
    "plt.xticks(xticks, fontsize=8)\n",
    "plt.show()"
   ],
   "id": "c62c83bab5b8cff3",
   "outputs": [
    {
     "data": {
      "text/plain": [
       "<Figure size 640x480 with 1 Axes>"
      ],
      "image/png": "[encoded data removed]"
     },
     "metadata": {},
     "output_type": "display_data"
    }
   ],
   "execution_count": 382
  },
  {
   "metadata": {},
   "cell_type": "markdown",
   "source": [
    "\n",
    "Медиана (второй квартиль) равна 37.\n",
    "\n",
    "Значения между первым и третьим квартилем - от до 28 до 48, т.е. межквартильный размах равен 20.\n",
    "\n",
    "Минимальное значение - 17.\n",
    "\n",
    "Максимальное значение - 78.\n",
    "\n",
    "Выбросы - все значения больше 78."
   ],
   "id": "9fea1b37614acd3f"
  },
  {
   "metadata": {},
   "cell_type": "markdown",
   "source": "### 3. Удаление выбросов",
   "id": "2ce8e0f3c4eddb24"
  },
  {
   "metadata": {},
   "cell_type": "markdown",
   "source": "#### Целевая переменная",
   "id": "1af8f1250f9a2f5a"
  },
  {
   "metadata": {
    "ExecuteTime": {
     "end_time": "2024-12-05T18:34:17.472522Z",
     "start_time": "2024-12-05T18:34:17.456523Z"
    }
   },
   "cell_type": "code",
   "source": [
    "low1 = q1_hours_per_week - iqr_hours_per_week * 1.5\n",
    "up1 = q3_hours_per_week + iqr_hours_per_week * 1.5\n",
    "cleaned_data = data[(data['hours-per-week'] >= low1) & (data['hours-per-week'] <= up1)]\n",
    "cleaned_data.info()"
   ],
   "id": "444c326c7f9c2c4d",
   "outputs": [
    {
     "name": "stdout",
     "output_type": "stream",
     "text": [
      "<class 'pandas.core.frame.DataFrame'>\n",
      "Index: 35346 entries, 0 to 48841\n",
      "Data columns (total 17 columns):\n",
      " #   Column              Non-Null Count  Dtype \n",
      "---  ------              --------------  ----- \n",
      " 0   age                 35346 non-null  int64 \n",
      " 1   workclass           35346 non-null  object\n",
      " 2   fnlwgt              35346 non-null  int64 \n",
      " 3   education           35346 non-null  object\n",
      " 4   educational-num     35346 non-null  int64 \n",
      " 5   marital-status      35346 non-null  object\n",
      " 6   occupation          35346 non-null  object\n",
      " 7   relationship        35346 non-null  object\n",
      " 8   race                35346 non-null  object\n",
      " 9   gender              35346 non-null  object\n",
      " 10  capital-gain        35346 non-null  int64 \n",
      " 11  capital-loss        35346 non-null  int64 \n",
      " 12  hours-per-week      35346 non-null  int64 \n",
      " 13  native-country      35346 non-null  object\n",
      " 14  income              35346 non-null  object\n",
      " 15  foreigners          35346 non-null  object\n",
      " 16  education-category  35346 non-null  object\n",
      "dtypes: int64(6), object(11)\n",
      "memory usage: 4.9+ MB\n"
     ]
    }
   ],
   "execution_count": 339
  },
  {
   "metadata": {},
   "cell_type": "markdown",
   "source": "#### Предиктор",
   "id": "7438e9c36841508a"
  },
  {
   "metadata": {
    "ExecuteTime": {
     "end_time": "2024-12-05T18:34:17.477554Z",
     "start_time": "2024-12-05T18:34:17.474357Z"
    }
   },
   "cell_type": "code",
   "source": [
    "mean_age = cleaned_data['age'].mean()\n",
    "std_age = cleaned_data['age'].std()\n",
    "mean_age, std_age"
   ],
   "id": "8fd4cc209c07c34d",
   "outputs": [
    {
     "data": {
      "text/plain": [
       "(np.float64(38.88142929893057), np.float64(12.447700828325518))"
      ]
     },
     "execution_count": 340,
     "metadata": {},
     "output_type": "execute_result"
    }
   ],
   "execution_count": 340
  },
  {
   "metadata": {
    "ExecuteTime": {
     "end_time": "2024-12-05T18:34:17.481069Z",
     "start_time": "2024-12-05T18:34:17.478478Z"
    }
   },
   "cell_type": "code",
   "source": [
    "low2 = mean_age - 3 * std_age\n",
    "up2 = mean_age + 3 * std_age\n",
    "low2, up2"
   ],
   "id": "5c043b98ad1db27c",
   "outputs": [
    {
     "data": {
      "text/plain": [
       "(np.float64(1.538326813954015), np.float64(76.22453178390712))"
      ]
     },
     "execution_count": 341,
     "metadata": {},
     "output_type": "execute_result"
    }
   ],
   "execution_count": 341
  },
  {
   "metadata": {
    "ExecuteTime": {
     "end_time": "2024-12-05T18:34:17.498736Z",
     "start_time": "2024-12-05T18:34:17.481645Z"
    }
   },
   "cell_type": "code",
   "source": [
    "cleaned_data = cleaned_data[(cleaned_data['age'] >= low2) & (cleaned_data['age'] <= up2)]\n",
    "cleaned_data.info()"
   ],
   "id": "b8204092a4ac1add",
   "outputs": [
    {
     "name": "stdout",
     "output_type": "stream",
     "text": [
      "<class 'pandas.core.frame.DataFrame'>\n",
      "Index: 35236 entries, 0 to 48841\n",
      "Data columns (total 17 columns):\n",
      " #   Column              Non-Null Count  Dtype \n",
      "---  ------              --------------  ----- \n",
      " 0   age                 35236 non-null  int64 \n",
      " 1   workclass           35236 non-null  object\n",
      " 2   fnlwgt              35236 non-null  int64 \n",
      " 3   education           35236 non-null  object\n",
      " 4   educational-num     35236 non-null  int64 \n",
      " 5   marital-status      35236 non-null  object\n",
      " 6   occupation          35236 non-null  object\n",
      " 7   relationship        35236 non-null  object\n",
      " 8   race                35236 non-null  object\n",
      " 9   gender              35236 non-null  object\n",
      " 10  capital-gain        35236 non-null  int64 \n",
      " 11  capital-loss        35236 non-null  int64 \n",
      " 12  hours-per-week      35236 non-null  int64 \n",
      " 13  native-country      35236 non-null  object\n",
      " 14  income              35236 non-null  object\n",
      " 15  foreigners          35236 non-null  object\n",
      " 16  education-category  35236 non-null  object\n",
      "dtypes: int64(6), object(11)\n",
      "memory usage: 4.8+ MB\n"
     ]
    }
   ],
   "execution_count": 342
  },
  {
   "metadata": {},
   "cell_type": "markdown",
   "source": "### 4. Обработка пропусков в данных",
   "id": "4b67a6c5974b3b4a"
  },
  {
   "metadata": {
    "ExecuteTime": {
     "end_time": "2024-12-05T19:10:21.080710Z",
     "start_time": "2024-12-05T19:10:21.076242Z"
    }
   },
   "cell_type": "code",
   "source": [
    "empt_hours = cleaned_data['hours-per-week'].isnull().sum()\n",
    "empt_age = cleaned_data['age'].isnull().sum()\n",
    "empt_hours, empt_age"
   ],
   "id": "eb8c3ccfc3ca283a",
   "outputs": [
    {
     "data": {
      "text/plain": [
       "(np.int64(0), np.int64(0))"
      ]
     },
     "execution_count": 365,
     "metadata": {},
     "output_type": "execute_result"
    }
   ],
   "execution_count": 365
  },
  {
   "metadata": {},
   "cell_type": "markdown",
   "source": "В данных нет пропусков, но если бы они были, то можно было бы заменить пропущенные значения таким образом",
   "id": "1207eeb30eb1cd64"
  },
  {
   "metadata": {
    "ExecuteTime": {
     "end_time": "2024-12-05T18:34:17.502541Z",
     "start_time": "2024-12-05T18:34:17.500451Z"
    }
   },
   "cell_type": "code",
   "source": "cleaned_data.fillna({'col': median_hours_per_week}, inplace=True)",
   "id": "54ce7198fb90a1c9",
   "outputs": [],
   "execution_count": 343
  },
  {
   "metadata": {},
   "cell_type": "markdown",
   "source": "### 5. Построение корреляционной матрицы",
   "id": "a7609e2173a8fd91"
  },
  {
   "metadata": {
    "ExecuteTime": {
     "end_time": "2024-12-05T18:43:26.414844Z",
     "start_time": "2024-12-05T18:43:26.402669Z"
    }
   },
   "cell_type": "code",
   "source": [
    "corr_matr = cleaned_data.corr(numeric_only=True)\n",
    "corr_matr.style.background_gradient()"
   ],
   "id": "ac7e87eadceb87b4",
   "outputs": [
    {
     "data": {
      "text/plain": [
       "<pandas.io.formats.style.Styler at 0x168644910>"
      ],
      "text/html": [
       "<style type=\"text/css\">\n",
       "#T_9a5de_row0_col0, #T_9a5de_row1_col1, #T_9a5de_row2_col2, #T_9a5de_row3_col3, #T_9a5de_row4_col4, #T_9a5de_row5_col5 {\n",
       "  background-color: #023858;\n",
       "  color: #f1f1f1;\n",
       "}\n",
       "#T_9a5de_row0_col1, #T_9a5de_row1_col0, #T_9a5de_row1_col2, #T_9a5de_row1_col5, #T_9a5de_row3_col4, #T_9a5de_row4_col3 {\n",
       "  background-color: #fff7fb;\n",
       "  color: #000000;\n",
       "}\n",
       "#T_9a5de_row0_col2, #T_9a5de_row4_col5 {\n",
       "  background-color: #f7f0f7;\n",
       "  color: #000000;\n",
       "}\n",
       "#T_9a5de_row0_col3 {\n",
       "  background-color: #efe9f3;\n",
       "  color: #000000;\n",
       "}\n",
       "#T_9a5de_row0_col4, #T_9a5de_row2_col0, #T_9a5de_row5_col3 {\n",
       "  background-color: #f2ecf5;\n",
       "  color: #000000;\n",
       "}\n",
       "#T_9a5de_row0_col5 {\n",
       "  background-color: #f5eff6;\n",
       "  color: #000000;\n",
       "}\n",
       "#T_9a5de_row1_col3, #T_9a5de_row1_col4 {\n",
       "  background-color: #fbf4f9;\n",
       "  color: #000000;\n",
       "}\n",
       "#T_9a5de_row2_col1 {\n",
       "  background-color: #fbf3f9;\n",
       "  color: #000000;\n",
       "}\n",
       "#T_9a5de_row2_col3 {\n",
       "  background-color: #e9e5f1;\n",
       "  color: #000000;\n",
       "}\n",
       "#T_9a5de_row2_col4 {\n",
       "  background-color: #f0eaf4;\n",
       "  color: #000000;\n",
       "}\n",
       "#T_9a5de_row2_col5 {\n",
       "  background-color: #e6e2ef;\n",
       "  color: #000000;\n",
       "}\n",
       "#T_9a5de_row3_col0, #T_9a5de_row3_col2 {\n",
       "  background-color: #e7e3f0;\n",
       "  color: #000000;\n",
       "}\n",
       "#T_9a5de_row3_col1, #T_9a5de_row4_col1 {\n",
       "  background-color: #f5eef6;\n",
       "  color: #000000;\n",
       "}\n",
       "#T_9a5de_row3_col5, #T_9a5de_row5_col4 {\n",
       "  background-color: #f4eef6;\n",
       "  color: #000000;\n",
       "}\n",
       "#T_9a5de_row4_col0, #T_9a5de_row5_col0 {\n",
       "  background-color: #ede7f2;\n",
       "  color: #000000;\n",
       "}\n",
       "#T_9a5de_row4_col2 {\n",
       "  background-color: #ede8f3;\n",
       "  color: #000000;\n",
       "}\n",
       "#T_9a5de_row5_col1 {\n",
       "  background-color: #f6eff7;\n",
       "  color: #000000;\n",
       "}\n",
       "#T_9a5de_row5_col2 {\n",
       "  background-color: #dfddec;\n",
       "  color: #000000;\n",
       "}\n",
       "</style>\n",
       "<table id=\"T_9a5de\">\n",
       "  <thead>\n",
       "    <tr>\n",
       "      <th class=\"blank level0\" >&nbsp;</th>\n",
       "      <th id=\"T_9a5de_level0_col0\" class=\"col_heading level0 col0\" >age</th>\n",
       "      <th id=\"T_9a5de_level0_col1\" class=\"col_heading level0 col1\" >fnlwgt</th>\n",
       "      <th id=\"T_9a5de_level0_col2\" class=\"col_heading level0 col2\" >educational-num</th>\n",
       "      <th id=\"T_9a5de_level0_col3\" class=\"col_heading level0 col3\" >capital-gain</th>\n",
       "      <th id=\"T_9a5de_level0_col4\" class=\"col_heading level0 col4\" >capital-loss</th>\n",
       "      <th id=\"T_9a5de_level0_col5\" class=\"col_heading level0 col5\" >hours-per-week</th>\n",
       "    </tr>\n",
       "  </thead>\n",
       "  <tbody>\n",
       "    <tr>\n",
       "      <th id=\"T_9a5de_level0_row0\" class=\"row_heading level0 row0\" >age</th>\n",
       "      <td id=\"T_9a5de_row0_col0\" class=\"data row0 col0\" >1.000000</td>\n",
       "      <td id=\"T_9a5de_row0_col1\" class=\"data row0 col1\" >-0.078606</td>\n",
       "      <td id=\"T_9a5de_row0_col2\" class=\"data row0 col2\" >0.013319</td>\n",
       "      <td id=\"T_9a5de_row0_col3\" class=\"data row0 col3\" >0.079964</td>\n",
       "      <td id=\"T_9a5de_row0_col4\" class=\"data row0 col4\" >0.055608</td>\n",
       "      <td id=\"T_9a5de_row0_col5\" class=\"data row0 col5\" >0.053875</td>\n",
       "    </tr>\n",
       "    <tr>\n",
       "      <th id=\"T_9a5de_level0_row1\" class=\"row_heading level0 row1\" >fnlwgt</th>\n",
       "      <td id=\"T_9a5de_row1_col0\" class=\"data row1 col0\" >-0.078606</td>\n",
       "      <td id=\"T_9a5de_row1_col1\" class=\"data row1 col1\" >1.000000</td>\n",
       "      <td id=\"T_9a5de_row1_col2\" class=\"data row1 col2\" >-0.047137</td>\n",
       "      <td id=\"T_9a5de_row1_col3\" class=\"data row1 col3\" >-0.006582</td>\n",
       "      <td id=\"T_9a5de_row1_col4\" class=\"data row1 col4\" >-0.004678</td>\n",
       "      <td id=\"T_9a5de_row1_col5\" class=\"data row1 col5\" >-0.011380</td>\n",
       "    </tr>\n",
       "    <tr>\n",
       "      <th id=\"T_9a5de_level0_row2\" class=\"row_heading level0 row2\" >educational-num</th>\n",
       "      <td id=\"T_9a5de_row2_col0\" class=\"data row2 col0\" >0.013319</td>\n",
       "      <td id=\"T_9a5de_row2_col1\" class=\"data row2 col1\" >-0.047137</td>\n",
       "      <td id=\"T_9a5de_row2_col2\" class=\"data row2 col2\" >1.000000</td>\n",
       "      <td id=\"T_9a5de_row2_col3\" class=\"data row2 col3\" >0.110279</td>\n",
       "      <td id=\"T_9a5de_row2_col4\" class=\"data row2 col4\" >0.076475</td>\n",
       "      <td id=\"T_9a5de_row2_col5\" class=\"data row2 col5\" >0.145782</td>\n",
       "    </tr>\n",
       "    <tr>\n",
       "      <th id=\"T_9a5de_level0_row3\" class=\"row_heading level0 row3\" >capital-gain</th>\n",
       "      <td id=\"T_9a5de_row3_col0\" class=\"data row3 col0\" >0.079964</td>\n",
       "      <td id=\"T_9a5de_row3_col1\" class=\"data row3 col1\" >-0.006582</td>\n",
       "      <td id=\"T_9a5de_row3_col2\" class=\"data row3 col2\" >0.110279</td>\n",
       "      <td id=\"T_9a5de_row3_col3\" class=\"data row3 col3\" >1.000000</td>\n",
       "      <td id=\"T_9a5de_row3_col4\" class=\"data row3 col4\" >-0.032059</td>\n",
       "      <td id=\"T_9a5de_row3_col5\" class=\"data row3 col5\" >0.060253</td>\n",
       "    </tr>\n",
       "    <tr>\n",
       "      <th id=\"T_9a5de_level0_row4\" class=\"row_heading level0 row4\" >capital-loss</th>\n",
       "      <td id=\"T_9a5de_row4_col0\" class=\"data row4 col0\" >0.055608</td>\n",
       "      <td id=\"T_9a5de_row4_col1\" class=\"data row4 col1\" >-0.004678</td>\n",
       "      <td id=\"T_9a5de_row4_col2\" class=\"data row4 col2\" >0.076475</td>\n",
       "      <td id=\"T_9a5de_row4_col3\" class=\"data row4 col3\" >-0.032059</td>\n",
       "      <td id=\"T_9a5de_row4_col4\" class=\"data row4 col4\" >1.000000</td>\n",
       "      <td id=\"T_9a5de_row4_col5\" class=\"data row4 col5\" >0.040732</td>\n",
       "    </tr>\n",
       "    <tr>\n",
       "      <th id=\"T_9a5de_level0_row5\" class=\"row_heading level0 row5\" >hours-per-week</th>\n",
       "      <td id=\"T_9a5de_row5_col0\" class=\"data row5 col0\" >0.053875</td>\n",
       "      <td id=\"T_9a5de_row5_col1\" class=\"data row5 col1\" >-0.011380</td>\n",
       "      <td id=\"T_9a5de_row5_col2\" class=\"data row5 col2\" >0.145782</td>\n",
       "      <td id=\"T_9a5de_row5_col3\" class=\"data row5 col3\" >0.060253</td>\n",
       "      <td id=\"T_9a5de_row5_col4\" class=\"data row5 col4\" >0.040732</td>\n",
       "      <td id=\"T_9a5de_row5_col5\" class=\"data row5 col5\" >1.000000</td>\n",
       "    </tr>\n",
       "  </tbody>\n",
       "</table>\n"
      ]
     },
     "execution_count": 358,
     "metadata": {},
     "output_type": "execute_result"
    }
   ],
   "execution_count": 358
  },
  {
   "metadata": {},
   "cell_type": "markdown",
   "source": "### 6. Корреляция между признаками с самой сильной линейной взаимосвязью",
   "id": "bc483b1df2a60f02"
  },
  {
   "metadata": {
    "ExecuteTime": {
     "end_time": "2024-12-05T18:37:16.132764Z",
     "start_time": "2024-12-05T18:37:16.118312Z"
    }
   },
   "cell_type": "code",
   "source": "cleaned_data['hours-per-week'].corr(cleaned_data['educational-num'])",
   "id": "53d02295c331e805",
   "outputs": [
    {
     "data": {
      "text/plain": [
       "np.float64(0.14578157476718612)"
      ]
     },
     "execution_count": 347,
     "metadata": {},
     "output_type": "execute_result"
    }
   ],
   "execution_count": 347
  },
  {
   "metadata": {},
   "cell_type": "markdown",
   "source": "### 7. Построение графика рассеяния с самой сильной корреляцией",
   "id": "be10112ca5167f38"
  },
  {
   "metadata": {
    "ExecuteTime": {
     "end_time": "2024-12-05T18:39:29.591585Z",
     "start_time": "2024-12-05T18:39:29.508007Z"
    }
   },
   "cell_type": "code",
   "source": [
    "plt.scatter(cleaned_data['educational-num'], cleaned_data['hours-per-week'])\n",
    "plt.xlabel('Educational num')\n",
    "plt.ylabel('Hours per week')\n",
    "plt.grid(axis='x', linestyle='--', color='gray')\n",
    "plt.grid(axis='y', linestyle='--', color='gray')\n",
    "plt.show()"
   ],
   "id": "c1156306dd873f5b",
   "outputs": [
    {
     "data": {
      "text/plain": [
       "<Figure size 640x480 with 1 Axes>"
      ],
      "image/png": "[encoded data removed]"
     },
     "metadata": {},
     "output_type": "display_data"
    }
   ],
   "execution_count": 354
  },
  {
   "metadata": {},
   "cell_type": "markdown",
   "source": "### 8. Модель линейной регрессии",
   "id": "119de1c0ba4e2002"
  },
  {
   "metadata": {},
   "cell_type": "markdown",
   "source": "#### Построение модели",
   "id": "6af141b1463e9bef"
  },
  {
   "metadata": {
    "ExecuteTime": {
     "end_time": "2024-12-05T19:06:04.399709Z",
     "start_time": "2024-12-05T19:06:04.342452Z"
    }
   },
   "cell_type": "code",
   "source": [
    "X = sm.add_constant(cleaned_data['educational-num'])\n",
    "Y = cleaned_data['hours-per-week']\n",
    "model = sm.OLS(Y, X).fit()\n",
    "p = model.params\n",
    "p"
   ],
   "id": "df59462b4336c790",
   "outputs": [
    {
     "data": {
      "text/plain": [
       "const              39.227647\n",
       "educational-num     0.231378\n",
       "dtype: float64"
      ]
     },
     "execution_count": 363,
     "metadata": {},
     "output_type": "execute_result"
    }
   ],
   "execution_count": 363
  },
  {
   "metadata": {},
   "cell_type": "markdown",
   "source": [
    "Если educational-num = 0, то количество рабочих часов в неделю будет составлять 39.23.\n",
    "\n",
    "При увеличении educational-num на 1, количество рабочих часов увеличится на 0.23"
   ],
   "id": "27a7bba58c0cebd8"
  },
  {
   "metadata": {},
   "cell_type": "markdown",
   "source": "#### Коэффициент детерминации",
   "id": "5eafdf5dc1d2d895"
  },
  {
   "metadata": {
    "ExecuteTime": {
     "end_time": "2024-12-05T19:13:40.898088Z",
     "start_time": "2024-12-05T19:13:40.861461Z"
    }
   },
   "cell_type": "code",
   "source": "model.rsquared",
   "id": "b082a9635e0542e2",
   "outputs": [
    {
     "data": {
      "text/plain": [
       "np.float64(0.021252267541600922)"
      ]
     },
     "execution_count": 366,
     "metadata": {},
     "output_type": "execute_result"
    }
   ],
   "execution_count": 366
  },
  {
   "metadata": {},
   "cell_type": "markdown",
   "source": "У модели плохое качество",
   "id": "5f718127cb0da2ce"
  },
  {
   "metadata": {},
   "cell_type": "markdown",
   "source": "#### Среднеквадратичная ошибка",
   "id": "f7dda4fdb0b218dc"
  },
  {
   "metadata": {
    "ExecuteTime": {
     "end_time": "2024-12-05T18:46:04.174291Z",
     "start_time": "2024-12-05T18:46:04.168837Z"
    }
   },
   "cell_type": "code",
   "source": [
    "Y_pr = model.predict(X)\n",
    "MSE = sum((Y - Y_pr) ** 2) / len(Y)\n",
    "MSE"
   ],
   "id": "3e9a3b8c30489f32",
   "outputs": [
    {
     "data": {
      "text/plain": [
       "15.813285042914284"
      ]
     },
     "execution_count": 361,
     "metadata": {},
     "output_type": "execute_result"
    }
   ],
   "execution_count": 361
  },
  {
   "metadata": {},
   "cell_type": "markdown",
   "source": "Модель ошибается, cреднеквадратичная ошибка составляет 15.",
   "id": "e455fb113bb39c71"
  },
  {
   "metadata": {},
   "cell_type": "markdown",
   "source": "#### Среднеабсолютная ошибка",
   "id": "ab1499c05ae9c9a4"
  },
  {
   "metadata": {
    "ExecuteTime": {
     "end_time": "2024-12-05T18:46:27.614581Z",
     "start_time": "2024-12-05T18:46:27.608918Z"
    }
   },
   "cell_type": "code",
   "source": [
    "Y_pr = model.predict(X)\n",
    "MAE = sum(abs(Y - Y_pr)) / len(Y)\n",
    "MAE"
   ],
   "id": "bfa1ec9ab99c636a",
   "outputs": [
    {
     "data": {
      "text/plain": [
       "3.039569666258207"
      ]
     },
     "execution_count": 362,
     "metadata": {},
     "output_type": "execute_result"
    }
   ],
   "execution_count": 362
  },
  {
   "metadata": {},
   "cell_type": "markdown",
   "source": "Модель ошибается, следует сравнить с другими моделями, чтобы сделать содержательные выводы. Среднеабсолютная ошибка составляет 3",
   "id": "f29459de29b6d2c6"
  },
  {
   "metadata": {
    "ExecuteTime": {
     "end_time": "2024-12-05T19:18:41.011320Z",
     "start_time": "2024-12-05T19:18:41.009515Z"
    }
   },
   "cell_type": "code",
   "source": "",
   "id": "89ee4aaebe6ca7fa",
   "outputs": [],
   "execution_count": 367
  }
 ],
 "metadata": {
  "kernelspec": {
   "display_name": "Python 3",
   "language": "python",
   "name": "python3"
  },
  "language_info": {
   "codemirror_mode": {
    "name": "ipython",
    "version": 2
   },
   "file_extension": ".py",
   "mimetype": "text/x-python",
   "name": "python",
   "nbconvert_exporter": "python",
   "pygments_lexer": "ipython2",
   "version": "2.7.6"
  }
 },
 "nbformat": 4,
 "nbformat_minor": 5
}
