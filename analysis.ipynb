{
 "cells": [
  {
   "metadata": {},
   "cell_type": "markdown",
   "source": "# Анализ доходов жителей США",
   "id": "bde4510f3da10cf7"
  },
  {
   "metadata": {},
   "cell_type": "markdown",
   "source": "## Подготовка к выполнению",
   "id": "81405d2fbf90c5ec"
  },
  {
   "metadata": {},
   "cell_type": "markdown",
   "source": "1. Импорт необходимых библиотек",
   "id": "815381ec7b01e55a"
  },
  {
   "metadata": {
    "ExecuteTime": {
     "end_time": "2024-10-23T16:02:45.803991Z",
     "start_time": "2024-10-23T16:02:45.801844Z"
    }
   },
   "cell_type": "code",
   "source": [
    "import pandas as pd\n",
    "import matplotlib.pyplot as plt"
   ],
   "id": "44ada02cd109b6d2",
   "outputs": [],
   "execution_count": 17
  },
  {
   "metadata": {},
   "cell_type": "markdown",
   "source": "## Выполнение заданий",
   "id": "63c94648889a9520"
  },
  {
   "metadata": {},
   "cell_type": "markdown",
   "source": "### Описание данных",
   "id": "dd90db4d3431e46"
  },
  {
   "metadata": {},
   "cell_type": "markdown",
   "source": [
    "\n",
    "***Источник данных:*** [данные о доходах взрослого населения США](https://www.kaggle.com/datasets/wenruliu/adult-income-dataset)\n",
    "\n",
    "***Набор данных включает в себя информацию о демографических характеристиках(возраст, пол, раса), образовании, занятости и доходе.***"
   ],
   "id": "8c81b4a17353a19a"
  },
  {
   "metadata": {
    "ExecuteTime": {
     "end_time": "2024-10-23T16:02:45.897168Z",
     "start_time": "2024-10-23T16:02:45.846216Z"
    }
   },
   "cell_type": "code",
   "source": [
    "data_path = './adult.csv'\n",
    "data = pd.read_csv(data_path)\n",
    "data.head()"
   ],
   "id": "a44b791ebfe59d9",
   "outputs": [
    {
     "data": {
      "text/plain": [
       "   age  workclass  fnlwgt     education  educational-num      marital-status  \\\n",
       "0   25    Private  226802          11th                7       Never-married   \n",
       "1   38    Private   89814       HS-grad                9  Married-civ-spouse   \n",
       "2   28  Local-gov  336951    Assoc-acdm               12  Married-civ-spouse   \n",
       "3   44    Private  160323  Some-college               10  Married-civ-spouse   \n",
       "4   18          ?  103497  Some-college               10       Never-married   \n",
       "\n",
       "          occupation relationship   race  gender  capital-gain  capital-loss  \\\n",
       "0  Machine-op-inspct    Own-child  Black    Male             0             0   \n",
       "1    Farming-fishing      Husband  White    Male             0             0   \n",
       "2    Protective-serv      Husband  White    Male             0             0   \n",
       "3  Machine-op-inspct      Husband  Black    Male          7688             0   \n",
       "4                  ?    Own-child  White  Female             0             0   \n",
       "\n",
       "   hours-per-week native-country income  \n",
       "0              40  United-States  <=50K  \n",
       "1              50  United-States  <=50K  \n",
       "2              40  United-States   >50K  \n",
       "3              40  United-States   >50K  \n",
       "4              30  United-States  <=50K  "
      ],
      "text/html": [
       "<div>\n",
       "<style scoped>\n",
       "    .dataframe tbody tr th:only-of-type {\n",
       "        vertical-align: middle;\n",
       "    }\n",
       "\n",
       "    .dataframe tbody tr th {\n",
       "        vertical-align: top;\n",
       "    }\n",
       "\n",
       "    .dataframe thead th {\n",
       "        text-align: right;\n",
       "    }\n",
       "</style>\n",
       "<table border=\"1\" class=\"dataframe\">\n",
       "  <thead>\n",
       "    <tr style=\"text-align: right;\">\n",
       "      <th></th>\n",
       "      <th>age</th>\n",
       "      <th>workclass</th>\n",
       "      <th>fnlwgt</th>\n",
       "      <th>education</th>\n",
       "      <th>educational-num</th>\n",
       "      <th>marital-status</th>\n",
       "      <th>occupation</th>\n",
       "      <th>relationship</th>\n",
       "      <th>race</th>\n",
       "      <th>gender</th>\n",
       "      <th>capital-gain</th>\n",
       "      <th>capital-loss</th>\n",
       "      <th>hours-per-week</th>\n",
       "      <th>native-country</th>\n",
       "      <th>income</th>\n",
       "    </tr>\n",
       "  </thead>\n",
       "  <tbody>\n",
       "    <tr>\n",
       "      <th>0</th>\n",
       "      <td>25</td>\n",
       "      <td>Private</td>\n",
       "      <td>226802</td>\n",
       "      <td>11th</td>\n",
       "      <td>7</td>\n",
       "      <td>Never-married</td>\n",
       "      <td>Machine-op-inspct</td>\n",
       "      <td>Own-child</td>\n",
       "      <td>Black</td>\n",
       "      <td>Male</td>\n",
       "      <td>0</td>\n",
       "      <td>0</td>\n",
       "      <td>40</td>\n",
       "      <td>United-States</td>\n",
       "      <td>&lt;=50K</td>\n",
       "    </tr>\n",
       "    <tr>\n",
       "      <th>1</th>\n",
       "      <td>38</td>\n",
       "      <td>Private</td>\n",
       "      <td>89814</td>\n",
       "      <td>HS-grad</td>\n",
       "      <td>9</td>\n",
       "      <td>Married-civ-spouse</td>\n",
       "      <td>Farming-fishing</td>\n",
       "      <td>Husband</td>\n",
       "      <td>White</td>\n",
       "      <td>Male</td>\n",
       "      <td>0</td>\n",
       "      <td>0</td>\n",
       "      <td>50</td>\n",
       "      <td>United-States</td>\n",
       "      <td>&lt;=50K</td>\n",
       "    </tr>\n",
       "    <tr>\n",
       "      <th>2</th>\n",
       "      <td>28</td>\n",
       "      <td>Local-gov</td>\n",
       "      <td>336951</td>\n",
       "      <td>Assoc-acdm</td>\n",
       "      <td>12</td>\n",
       "      <td>Married-civ-spouse</td>\n",
       "      <td>Protective-serv</td>\n",
       "      <td>Husband</td>\n",
       "      <td>White</td>\n",
       "      <td>Male</td>\n",
       "      <td>0</td>\n",
       "      <td>0</td>\n",
       "      <td>40</td>\n",
       "      <td>United-States</td>\n",
       "      <td>&gt;50K</td>\n",
       "    </tr>\n",
       "    <tr>\n",
       "      <th>3</th>\n",
       "      <td>44</td>\n",
       "      <td>Private</td>\n",
       "      <td>160323</td>\n",
       "      <td>Some-college</td>\n",
       "      <td>10</td>\n",
       "      <td>Married-civ-spouse</td>\n",
       "      <td>Machine-op-inspct</td>\n",
       "      <td>Husband</td>\n",
       "      <td>Black</td>\n",
       "      <td>Male</td>\n",
       "      <td>7688</td>\n",
       "      <td>0</td>\n",
       "      <td>40</td>\n",
       "      <td>United-States</td>\n",
       "      <td>&gt;50K</td>\n",
       "    </tr>\n",
       "    <tr>\n",
       "      <th>4</th>\n",
       "      <td>18</td>\n",
       "      <td>?</td>\n",
       "      <td>103497</td>\n",
       "      <td>Some-college</td>\n",
       "      <td>10</td>\n",
       "      <td>Never-married</td>\n",
       "      <td>?</td>\n",
       "      <td>Own-child</td>\n",
       "      <td>White</td>\n",
       "      <td>Female</td>\n",
       "      <td>0</td>\n",
       "      <td>0</td>\n",
       "      <td>30</td>\n",
       "      <td>United-States</td>\n",
       "      <td>&lt;=50K</td>\n",
       "    </tr>\n",
       "  </tbody>\n",
       "</table>\n",
       "</div>"
      ]
     },
     "execution_count": 18,
     "metadata": {},
     "output_type": "execute_result"
    }
   ],
   "execution_count": 18
  },
  {
   "metadata": {},
   "cell_type": "markdown",
   "source": "### Фильтрация",
   "id": "4b2d7e80855e275f"
  },
  {
   "metadata": {},
   "cell_type": "markdown",
   "source": "#### Фильтрация по одному условию",
   "id": "ad2ebddbca70eefa"
  },
  {
   "metadata": {
    "ExecuteTime": {
     "end_time": "2024-10-23T16:02:45.905160Z",
     "start_time": "2024-10-23T16:02:45.898693Z"
    }
   },
   "cell_type": "code",
   "source": [
    "bachelors = data[data['education'] == 'Bachelors']\n",
    "bachelors.shape"
   ],
   "id": "cc090676198410f1",
   "outputs": [
    {
     "data": {
      "text/plain": [
       "(8025, 15)"
      ]
     },
     "execution_count": 19,
     "metadata": {},
     "output_type": "execute_result"
    }
   ],
   "execution_count": 19
  },
  {
   "metadata": {},
   "cell_type": "markdown",
   "source": "В данных 8025 человек, которые имеют степень образования 'Бакалавр'.",
   "id": "92a545a63bee20dd"
  },
  {
   "metadata": {},
   "cell_type": "markdown",
   "source": "#### Фильтрация по нескольким условиям",
   "id": "60a15cfc7c01d4ba"
  },
  {
   "metadata": {
    "ExecuteTime": {
     "end_time": "2024-10-23T16:02:45.917975Z",
     "start_time": "2024-10-23T16:02:45.906256Z"
    }
   },
   "cell_type": "code",
   "source": [
    "black_women = data[(data['race'] == 'Black') & (data['gender'] == 'Female') & (data['education'] == 'Bachelors') & (\n",
    "        data['income'] == '>50K')]\n",
    "black_women.shape"
   ],
   "id": "3aee788a63ac55f1",
   "outputs": [
    {
     "data": {
      "text/plain": [
       "(40, 15)"
      ]
     },
     "execution_count": 20,
     "metadata": {},
     "output_type": "execute_result"
    }
   ],
   "execution_count": 20
  },
  {
   "metadata": {},
   "cell_type": "markdown",
   "source": "В данных 40 женщин афроамериканского происхождения, которые имеют бакалаврскую степень образования.",
   "id": "6fdce9dce231db22"
  },
  {
   "metadata": {},
   "cell_type": "markdown",
   "source": "### Сортировка",
   "id": "cb0164d61ad4dd85"
  },
  {
   "metadata": {},
   "cell_type": "markdown",
   "source": "#### Сортировка по возрастанию",
   "id": "b7b47126107e0121"
  },
  {
   "metadata": {
    "ExecuteTime": {
     "end_time": "2024-10-23T16:02:45.929087Z",
     "start_time": "2024-10-23T16:02:45.919691Z"
    }
   },
   "cell_type": "code",
   "source": [
    "ascending_sort = data.sort_values(by='hours-per-week')\n",
    "ascending_sort['hours-per-week'].iloc[0]"
   ],
   "id": "5e9b01bbd5e00cb9",
   "outputs": [
    {
     "data": {
      "text/plain": [
       "np.int64(1)"
      ]
     },
     "execution_count": 21,
     "metadata": {},
     "output_type": "execute_result"
    }
   ],
   "execution_count": 21
  },
  {
   "metadata": {},
   "cell_type": "markdown",
   "source": "В данных наименьшее число часов работы в неделю составляет 1 час. ",
   "id": "40f50447dfe32714"
  },
  {
   "metadata": {},
   "cell_type": "markdown",
   "source": "#### Сортировка по убыванию",
   "id": "d2ffbb4f2f322447"
  },
  {
   "metadata": {
    "ExecuteTime": {
     "end_time": "2024-10-23T16:02:45.946159Z",
     "start_time": "2024-10-23T16:02:45.929794Z"
    }
   },
   "cell_type": "code",
   "source": [
    "descending_sort = data.sort_values(by='age', ascending=False)\n",
    "descending_sort['age'].iloc[0]"
   ],
   "id": "c5610742c0ba66e1",
   "outputs": [
    {
     "data": {
      "text/plain": [
       "np.int64(90)"
      ]
     },
     "execution_count": 22,
     "metadata": {},
     "output_type": "execute_result"
    }
   ],
   "execution_count": 22
  },
  {
   "metadata": {},
   "cell_type": "markdown",
   "source": "Возраст самого старого человека, представленного в данных составляет 90 лет.",
   "id": "c285f457f11fc3cc"
  },
  {
   "metadata": {},
   "cell_type": "markdown",
   "source": "### Частотная таблица",
   "id": "8287e18bc4111a5c"
  },
  {
   "metadata": {
    "ExecuteTime": {
     "end_time": "2024-10-23T16:02:45.952013Z",
     "start_time": "2024-10-23T16:02:45.946895Z"
    }
   },
   "cell_type": "code",
   "source": [
    "education_counts = data['education'].value_counts()\n",
    "education_counts"
   ],
   "id": "1557b9f0e276a9b",
   "outputs": [
    {
     "data": {
      "text/plain": [
       "education\n",
       "HS-grad         15784\n",
       "Some-college    10878\n",
       "Bachelors        8025\n",
       "Masters          2657\n",
       "Assoc-voc        2061\n",
       "11th             1812\n",
       "Assoc-acdm       1601\n",
       "10th             1389\n",
       "7th-8th           955\n",
       "Prof-school       834\n",
       "9th               756\n",
       "12th              657\n",
       "Doctorate         594\n",
       "5th-6th           509\n",
       "1st-4th           247\n",
       "Preschool          83\n",
       "Name: count, dtype: int64"
      ]
     },
     "execution_count": 23,
     "metadata": {},
     "output_type": "execute_result"
    }
   ],
   "execution_count": 23
  },
  {
   "metadata": {},
   "cell_type": "markdown",
   "source": "Частотная таблица показывает, что самое часто встречающееся образование среди опрошенных - выпускник старшей школы \"HS-grad\"",
   "id": "4300dfa3818a4fd7"
  },
  {
   "metadata": {},
   "cell_type": "markdown",
   "source": "### Гистограмма",
   "id": "26205d09601a6746"
  },
  {
   "metadata": {
    "ExecuteTime": {
     "end_time": "2024-10-23T16:02:46.028585Z",
     "start_time": "2024-10-23T16:02:45.952644Z"
    }
   },
   "cell_type": "code",
   "source": [
    "plt.hist(data['age'], bins=40)\n",
    "plt.xlabel('Возраст')\n",
    "plt.ylabel('Количество')\n",
    "plt.title('Распределение возраста')\n",
    "plt.show()"
   ],
   "id": "28e28f9e346dcf40",
   "outputs": [
    {
     "data": {
      "text/plain": [
       "<Figure size 640x480 with 1 Axes>"
      ],
      "image/png": "[encoded data removed]"
     },
     "metadata": {},
     "output_type": "display_data"
    }
   ],
   "execution_count": 24
  },
  {
   "metadata": {},
   "cell_type": "markdown",
   "source": "### Столбчатая диаграмма",
   "id": "ba1a71580d569420"
  },
  {
   "metadata": {
    "ExecuteTime": {
     "end_time": "2024-10-23T16:02:46.091025Z",
     "start_time": "2024-10-23T16:02:46.029610Z"
    }
   },
   "cell_type": "code",
   "source": [
    "data['income'].value_counts().plot(kind='bar')\n",
    "plt.xlabel('Зарплата')\n",
    "plt.ylabel('Количетсво')\n",
    "plt.title('Распределение зарплат')\n",
    "plt.show()"
   ],
   "id": "f40c10c8a4469bcc",
   "outputs": [
    {
     "data": {
      "text/plain": [
       "<Figure size 640x480 with 1 Axes>"
      ],
      "image/png": "[encoded data removed]"
     },
     "metadata": {},
     "output_type": "display_data"
    }
   ],
   "execution_count": 25
  },
  {
   "metadata": {},
   "cell_type": "markdown",
   "source": "### Круговая диаграмма",
   "id": "b6b85ea0a07d21d"
  },
  {
   "metadata": {
    "ExecuteTime": {
     "end_time": "2024-10-23T16:02:46.157657Z",
     "start_time": "2024-10-23T16:02:46.092201Z"
    }
   },
   "cell_type": "code",
   "source": [
    "data['occupation'].value_counts().plot(kind='pie', autopct='%1.1f%%')\n",
    "plt.title('Род деятельности')\n",
    "plt.show()"
   ],
   "id": "7b6a41ebb9abc421",
   "outputs": [
    {
     "data": {
      "text/plain": [
       "<Figure size 640x480 with 1 Axes>"
      ],
      "image/png": "[encoded data removed]"
     },
     "metadata": {},
     "output_type": "display_data"
    }
   ],
   "execution_count": 26
  },
  {
   "metadata": {},
   "cell_type": "markdown",
   "source": "### Создание новых признаков",
   "id": "a86b3bf42b18fec2"
  },
  {
   "metadata": {},
   "cell_type": "markdown",
   "source": "#### Создание нового признака с помощью анонимной функции",
   "id": "c37880d7c1d1ef28"
  },
  {
   "metadata": {
    "ExecuteTime": {
     "end_time": "2024-10-23T16:02:46.167602Z",
     "start_time": "2024-10-23T16:02:46.160352Z"
    }
   },
   "cell_type": "code",
   "source": "data['foreigners'] = data['native-country'].apply(lambda x: 'Native' if x == 'United-States' else 'Foreigner')\n",
   "id": "62b18847c483048e",
   "outputs": [],
   "execution_count": 27
  },
  {
   "metadata": {},
   "cell_type": "markdown",
   "source": "#### Создание нового признака с помощью def",
   "id": "1d6a1e431042a2ab"
  },
  {
   "metadata": {
    "ExecuteTime": {
     "end_time": "2024-10-23T16:02:46.179638Z",
     "start_time": "2024-10-23T16:02:46.168570Z"
    }
   },
   "cell_type": "code",
   "source": [
    "def categorize_education(education) -> str:\n",
    "    if education in ['Bachelors', 'Masters', 'Doctorate']:\n",
    "        return 'Higher education'\n",
    "    else:\n",
    "        return 'Other'\n",
    "\n",
    "\n",
    "data['education-category'] = data['education'].apply(categorize_education)\n",
    "data['education-category'].value_counts()"
   ],
   "id": "31db8346154b61ea",
   "outputs": [
    {
     "data": {
      "text/plain": [
       "education-category\n",
       "Other               37566\n",
       "Higher education    11276\n",
       "Name: count, dtype: int64"
      ]
     },
     "execution_count": 28,
     "metadata": {},
     "output_type": "execute_result"
    }
   ],
   "execution_count": 28
  },
  {
   "metadata": {},
   "cell_type": "markdown",
   "source": "### Группировки",
   "id": "c2fd24f95ef51fbf"
  },
  {
   "metadata": {},
   "cell_type": "markdown",
   "source": "#### Группировка один столбец группировки/один столбец агрегирования/один метод агрегирования",
   "id": "e474b550f74ec083"
  },
  {
   "metadata": {
    "ExecuteTime": {
     "end_time": "2024-10-23T16:02:46.185898Z",
     "start_time": "2024-10-23T16:02:46.180625Z"
    }
   },
   "cell_type": "code",
   "source": [
    "average_age_by_gender = data.groupby('gender')['age'].mean()\n",
    "average_age_by_gender"
   ],
   "id": "2918ea653a7c4eea",
   "outputs": [
    {
     "data": {
      "text/plain": [
       "gender\n",
       "Female    36.927989\n",
       "Male      39.494395\n",
       "Name: age, dtype: float64"
      ]
     },
     "execution_count": 29,
     "metadata": {},
     "output_type": "execute_result"
    }
   ],
   "execution_count": 29
  },
  {
   "metadata": {},
   "cell_type": "markdown",
   "source": "#### Группировка один столбец группировки/несколько столбцов агрерирования/один метод агрегирования",
   "id": "ea48456ed817546c"
  },
  {
   "metadata": {
    "ExecuteTime": {
     "end_time": "2024-10-23T16:02:46.193205Z",
     "start_time": "2024-10-23T16:02:46.186778Z"
    }
   },
   "cell_type": "code",
   "source": [
    "group_by_education = data.groupby('education')[['age', 'hours-per-week']].mean()\n",
    "group_by_education"
   ],
   "id": "d325beb683f50222",
   "outputs": [
    {
     "data": {
      "text/plain": [
       "                    age  hours-per-week\n",
       "education                              \n",
       "10th          37.902808       36.986321\n",
       "11th          32.141832       33.952539\n",
       "12th          32.235921       35.374429\n",
       "1st-4th       46.639676       38.761134\n",
       "5th-6th       43.585462       38.923379\n",
       "7th-8th       49.525654       39.003141\n",
       "9th           40.902116       38.359788\n",
       "Assoc-acdm    37.777014       40.809494\n",
       "Assoc-voc     38.651140       41.658418\n",
       "Bachelors     38.896324       42.482492\n",
       "Doctorate     47.530303       46.582492\n",
       "HS-grad       39.073809       40.640775\n",
       "Masters       44.006775       43.575837\n",
       "Preschool     42.204819       36.566265\n",
       "Prof-school   45.152278       47.579137\n",
       "Some-college  35.677055       38.865784"
      ],
      "text/html": [
       "<div>\n",
       "<style scoped>\n",
       "    .dataframe tbody tr th:only-of-type {\n",
       "        vertical-align: middle;\n",
       "    }\n",
       "\n",
       "    .dataframe tbody tr th {\n",
       "        vertical-align: top;\n",
       "    }\n",
       "\n",
       "    .dataframe thead th {\n",
       "        text-align: right;\n",
       "    }\n",
       "</style>\n",
       "<table border=\"1\" class=\"dataframe\">\n",
       "  <thead>\n",
       "    <tr style=\"text-align: right;\">\n",
       "      <th></th>\n",
       "      <th>age</th>\n",
       "      <th>hours-per-week</th>\n",
       "    </tr>\n",
       "    <tr>\n",
       "      <th>education</th>\n",
       "      <th></th>\n",
       "      <th></th>\n",
       "    </tr>\n",
       "  </thead>\n",
       "  <tbody>\n",
       "    <tr>\n",
       "      <th>10th</th>\n",
       "      <td>37.902808</td>\n",
       "      <td>36.986321</td>\n",
       "    </tr>\n",
       "    <tr>\n",
       "      <th>11th</th>\n",
       "      <td>32.141832</td>\n",
       "      <td>33.952539</td>\n",
       "    </tr>\n",
       "    <tr>\n",
       "      <th>12th</th>\n",
       "      <td>32.235921</td>\n",
       "      <td>35.374429</td>\n",
       "    </tr>\n",
       "    <tr>\n",
       "      <th>1st-4th</th>\n",
       "      <td>46.639676</td>\n",
       "      <td>38.761134</td>\n",
       "    </tr>\n",
       "    <tr>\n",
       "      <th>5th-6th</th>\n",
       "      <td>43.585462</td>\n",
       "      <td>38.923379</td>\n",
       "    </tr>\n",
       "    <tr>\n",
       "      <th>7th-8th</th>\n",
       "      <td>49.525654</td>\n",
       "      <td>39.003141</td>\n",
       "    </tr>\n",
       "    <tr>\n",
       "      <th>9th</th>\n",
       "      <td>40.902116</td>\n",
       "      <td>38.359788</td>\n",
       "    </tr>\n",
       "    <tr>\n",
       "      <th>Assoc-acdm</th>\n",
       "      <td>37.777014</td>\n",
       "      <td>40.809494</td>\n",
       "    </tr>\n",
       "    <tr>\n",
       "      <th>Assoc-voc</th>\n",
       "      <td>38.651140</td>\n",
       "      <td>41.658418</td>\n",
       "    </tr>\n",
       "    <tr>\n",
       "      <th>Bachelors</th>\n",
       "      <td>38.896324</td>\n",
       "      <td>42.482492</td>\n",
       "    </tr>\n",
       "    <tr>\n",
       "      <th>Doctorate</th>\n",
       "      <td>47.530303</td>\n",
       "      <td>46.582492</td>\n",
       "    </tr>\n",
       "    <tr>\n",
       "      <th>HS-grad</th>\n",
       "      <td>39.073809</td>\n",
       "      <td>40.640775</td>\n",
       "    </tr>\n",
       "    <tr>\n",
       "      <th>Masters</th>\n",
       "      <td>44.006775</td>\n",
       "      <td>43.575837</td>\n",
       "    </tr>\n",
       "    <tr>\n",
       "      <th>Preschool</th>\n",
       "      <td>42.204819</td>\n",
       "      <td>36.566265</td>\n",
       "    </tr>\n",
       "    <tr>\n",
       "      <th>Prof-school</th>\n",
       "      <td>45.152278</td>\n",
       "      <td>47.579137</td>\n",
       "    </tr>\n",
       "    <tr>\n",
       "      <th>Some-college</th>\n",
       "      <td>35.677055</td>\n",
       "      <td>38.865784</td>\n",
       "    </tr>\n",
       "  </tbody>\n",
       "</table>\n",
       "</div>"
      ]
     },
     "execution_count": 30,
     "metadata": {},
     "output_type": "execute_result"
    }
   ],
   "execution_count": 30
  },
  {
   "metadata": {},
   "cell_type": "markdown",
   "source": "#### Группировка один столбец группировки/один столбец агрегирования/несколько методов агрегирования",
   "id": "be36f49485d10b9c"
  },
  {
   "metadata": {
    "ExecuteTime": {
     "end_time": "2024-10-23T16:02:46.200480Z",
     "start_time": "2024-10-23T16:02:46.194249Z"
    }
   },
   "cell_type": "code",
   "source": "data.groupby('education')['age'].agg(['min', 'max'])",
   "id": "c6447297ad490da6",
   "outputs": [
    {
     "data": {
      "text/plain": [
       "              min  max\n",
       "education             \n",
       "10th           17   90\n",
       "11th           17   90\n",
       "12th           17   81\n",
       "1st-4th        19   90\n",
       "5th-6th        17   84\n",
       "7th-8th        17   90\n",
       "9th            17   90\n",
       "Assoc-acdm     19   90\n",
       "Assoc-voc      19   84\n",
       "Bachelors      19   90\n",
       "Doctorate      24   80\n",
       "HS-grad        17   90\n",
       "Masters        18   90\n",
       "Preschool      19   77\n",
       "Prof-school    25   90\n",
       "Some-college   17   90"
      ],
      "text/html": [
       "<div>\n",
       "<style scoped>\n",
       "    .dataframe tbody tr th:only-of-type {\n",
       "        vertical-align: middle;\n",
       "    }\n",
       "\n",
       "    .dataframe tbody tr th {\n",
       "        vertical-align: top;\n",
       "    }\n",
       "\n",
       "    .dataframe thead th {\n",
       "        text-align: right;\n",
       "    }\n",
       "</style>\n",
       "<table border=\"1\" class=\"dataframe\">\n",
       "  <thead>\n",
       "    <tr style=\"text-align: right;\">\n",
       "      <th></th>\n",
       "      <th>min</th>\n",
       "      <th>max</th>\n",
       "    </tr>\n",
       "    <tr>\n",
       "      <th>education</th>\n",
       "      <th></th>\n",
       "      <th></th>\n",
       "    </tr>\n",
       "  </thead>\n",
       "  <tbody>\n",
       "    <tr>\n",
       "      <th>10th</th>\n",
       "      <td>17</td>\n",
       "      <td>90</td>\n",
       "    </tr>\n",
       "    <tr>\n",
       "      <th>11th</th>\n",
       "      <td>17</td>\n",
       "      <td>90</td>\n",
       "    </tr>\n",
       "    <tr>\n",
       "      <th>12th</th>\n",
       "      <td>17</td>\n",
       "      <td>81</td>\n",
       "    </tr>\n",
       "    <tr>\n",
       "      <th>1st-4th</th>\n",
       "      <td>19</td>\n",
       "      <td>90</td>\n",
       "    </tr>\n",
       "    <tr>\n",
       "      <th>5th-6th</th>\n",
       "      <td>17</td>\n",
       "      <td>84</td>\n",
       "    </tr>\n",
       "    <tr>\n",
       "      <th>7th-8th</th>\n",
       "      <td>17</td>\n",
       "      <td>90</td>\n",
       "    </tr>\n",
       "    <tr>\n",
       "      <th>9th</th>\n",
       "      <td>17</td>\n",
       "      <td>90</td>\n",
       "    </tr>\n",
       "    <tr>\n",
       "      <th>Assoc-acdm</th>\n",
       "      <td>19</td>\n",
       "      <td>90</td>\n",
       "    </tr>\n",
       "    <tr>\n",
       "      <th>Assoc-voc</th>\n",
       "      <td>19</td>\n",
       "      <td>84</td>\n",
       "    </tr>\n",
       "    <tr>\n",
       "      <th>Bachelors</th>\n",
       "      <td>19</td>\n",
       "      <td>90</td>\n",
       "    </tr>\n",
       "    <tr>\n",
       "      <th>Doctorate</th>\n",
       "      <td>24</td>\n",
       "      <td>80</td>\n",
       "    </tr>\n",
       "    <tr>\n",
       "      <th>HS-grad</th>\n",
       "      <td>17</td>\n",
       "      <td>90</td>\n",
       "    </tr>\n",
       "    <tr>\n",
       "      <th>Masters</th>\n",
       "      <td>18</td>\n",
       "      <td>90</td>\n",
       "    </tr>\n",
       "    <tr>\n",
       "      <th>Preschool</th>\n",
       "      <td>19</td>\n",
       "      <td>77</td>\n",
       "    </tr>\n",
       "    <tr>\n",
       "      <th>Prof-school</th>\n",
       "      <td>25</td>\n",
       "      <td>90</td>\n",
       "    </tr>\n",
       "    <tr>\n",
       "      <th>Some-college</th>\n",
       "      <td>17</td>\n",
       "      <td>90</td>\n",
       "    </tr>\n",
       "  </tbody>\n",
       "</table>\n",
       "</div>"
      ]
     },
     "execution_count": 31,
     "metadata": {},
     "output_type": "execute_result"
    }
   ],
   "execution_count": 31
  },
  {
   "metadata": {},
   "cell_type": "markdown",
   "source": "#### Группировка один столбец группировки/несколько столбцов агрегирования/несколько методов агрегирования",
   "id": "436af891ca4ba06a"
  },
  {
   "metadata": {
    "ExecuteTime": {
     "end_time": "2024-10-23T16:02:46.210261Z",
     "start_time": "2024-10-23T16:02:46.201118Z"
    }
   },
   "cell_type": "code",
   "source": "data.groupby('workclass').agg({'age': ['mean'], 'hours-per-week': ['mean', 'median']})",
   "id": "29bec2d140c7a642",
   "outputs": [
    {
     "data": {
      "text/plain": [
       "                        age hours-per-week       \n",
       "                       mean           mean median\n",
       "workclass                                        \n",
       "?                 40.141122      31.812433   36.0\n",
       "Federal-gov       42.577514      41.513268   40.0\n",
       "Local-gov         41.676020      40.847258   40.0\n",
       "Never-worked      19.900000      28.900000   35.0\n",
       "Private           36.903144      40.273137   40.0\n",
       "Self-emp-inc      45.799410      48.570501   50.0\n",
       "Self-emp-not-inc  45.332470      44.395132   40.0\n",
       "State-gov         39.512367      39.090863   40.0\n",
       "Without-pay       47.285714      33.952381   40.0"
      ],
      "text/html": [
       "<div>\n",
       "<style scoped>\n",
       "    .dataframe tbody tr th:only-of-type {\n",
       "        vertical-align: middle;\n",
       "    }\n",
       "\n",
       "    .dataframe tbody tr th {\n",
       "        vertical-align: top;\n",
       "    }\n",
       "\n",
       "    .dataframe thead tr th {\n",
       "        text-align: left;\n",
       "    }\n",
       "\n",
       "    .dataframe thead tr:last-of-type th {\n",
       "        text-align: right;\n",
       "    }\n",
       "</style>\n",
       "<table border=\"1\" class=\"dataframe\">\n",
       "  <thead>\n",
       "    <tr>\n",
       "      <th></th>\n",
       "      <th>age</th>\n",
       "      <th colspan=\"2\" halign=\"left\">hours-per-week</th>\n",
       "    </tr>\n",
       "    <tr>\n",
       "      <th></th>\n",
       "      <th>mean</th>\n",
       "      <th>mean</th>\n",
       "      <th>median</th>\n",
       "    </tr>\n",
       "    <tr>\n",
       "      <th>workclass</th>\n",
       "      <th></th>\n",
       "      <th></th>\n",
       "      <th></th>\n",
       "    </tr>\n",
       "  </thead>\n",
       "  <tbody>\n",
       "    <tr>\n",
       "      <th>?</th>\n",
       "      <td>40.141122</td>\n",
       "      <td>31.812433</td>\n",
       "      <td>36.0</td>\n",
       "    </tr>\n",
       "    <tr>\n",
       "      <th>Federal-gov</th>\n",
       "      <td>42.577514</td>\n",
       "      <td>41.513268</td>\n",
       "      <td>40.0</td>\n",
       "    </tr>\n",
       "    <tr>\n",
       "      <th>Local-gov</th>\n",
       "      <td>41.676020</td>\n",
       "      <td>40.847258</td>\n",
       "      <td>40.0</td>\n",
       "    </tr>\n",
       "    <tr>\n",
       "      <th>Never-worked</th>\n",
       "      <td>19.900000</td>\n",
       "      <td>28.900000</td>\n",
       "      <td>35.0</td>\n",
       "    </tr>\n",
       "    <tr>\n",
       "      <th>Private</th>\n",
       "      <td>36.903144</td>\n",
       "      <td>40.273137</td>\n",
       "      <td>40.0</td>\n",
       "    </tr>\n",
       "    <tr>\n",
       "      <th>Self-emp-inc</th>\n",
       "      <td>45.799410</td>\n",
       "      <td>48.570501</td>\n",
       "      <td>50.0</td>\n",
       "    </tr>\n",
       "    <tr>\n",
       "      <th>Self-emp-not-inc</th>\n",
       "      <td>45.332470</td>\n",
       "      <td>44.395132</td>\n",
       "      <td>40.0</td>\n",
       "    </tr>\n",
       "    <tr>\n",
       "      <th>State-gov</th>\n",
       "      <td>39.512367</td>\n",
       "      <td>39.090863</td>\n",
       "      <td>40.0</td>\n",
       "    </tr>\n",
       "    <tr>\n",
       "      <th>Without-pay</th>\n",
       "      <td>47.285714</td>\n",
       "      <td>33.952381</td>\n",
       "      <td>40.0</td>\n",
       "    </tr>\n",
       "  </tbody>\n",
       "</table>\n",
       "</div>"
      ]
     },
     "execution_count": 32,
     "metadata": {},
     "output_type": "execute_result"
    }
   ],
   "execution_count": 32
  }
 ],
 "metadata": {
  "kernelspec": {
   "display_name": "Python 3",
   "language": "python",
   "name": "python3"
  },
  "language_info": {
   "codemirror_mode": {
    "name": "ipython",
    "version": 2
   },
   "file_extension": ".py",
   "mimetype": "text/x-python",
   "name": "python",
   "nbconvert_exporter": "python",
   "pygments_lexer": "ipython2",
   "version": "2.7.6"
  }
 },
 "nbformat": 4,
 "nbformat_minor": 5
}
